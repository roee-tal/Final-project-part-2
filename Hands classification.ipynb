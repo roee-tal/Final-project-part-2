{
 "cells": [
  {
   "cell_type": "markdown",
   "metadata": {},
   "source": [
    "## Hands classification"
   ]
  },
  {
   "cell_type": "markdown",
   "metadata": {},
   "source": [
    "* In this notebook there are recordings of 3 hands movement situations.\n",
    "* i will try to classify them into those situations acording to their position, velocity and more.\n",
    "* The situations are:\n",
    "    * Spontaneous- two people moving freely their hands while sitting together.\n",
    "    * synchronous- two people moving their hands while sitting together, trying to be synchronized.\n",
    "    * Alone- one person moving freely his hand.\n"
   ]
  },
  {
   "cell_type": "markdown",
   "metadata": {},
   "source": [
    "### Import libraries"
   ]
  },
  {
   "cell_type": "code",
   "execution_count": 1063,
   "metadata": {},
   "outputs": [],
   "source": [
    "import numpy as np\n",
    "import pandas as pd\n",
    "import glob\n",
    "import matplotlib.pyplot as plt \n",
    "%matplotlib inline\n",
    "import matplotlib.image as mpimg\n",
    "import seaborn as sns\n",
    "from mpl_toolkits.mplot3d import Axes3D\n",
    "from pandas import Series\n",
    "import os\n",
    "import math\n",
    "# models part\n",
    "from sklearn.preprocessing import StandardScaler\n",
    "from sklearn.decomposition import PCA   \n",
    "from sklearn.pipeline import Pipeline\n",
    "from sklearn.model_selection import train_test_split\n",
    "from sklearn.neighbors import KNeighborsClassifier\n",
    "from sklearn.linear_model import LogisticRegression\n",
    "from sklearn.ensemble import RandomForestClassifier\n",
    "from sklearn.ensemble import VotingClassifier\n",
    "from sklearn.model_selection import cross_val_score\n",
    "from sklearn.model_selection import GridSearchCV\n",
    "from sklearn.ensemble import StackingClassifier\n",
    "from xgboost import XGBClassifier\n",
    "import xgboost\n",
    "import xgboost as xgb\n",
    "from sklearn import metrics\n",
    "# warnings\n",
    "import warnings\n",
    "warnings.filterwarnings('ignore')"
   ]
  },
  {
   "cell_type": "markdown",
   "metadata": {},
   "source": [
    "### The data preparation takes a lot of steps, so i decided to build function with help functions inside to prepar the data, and i explaind every step."
   ]
  },
  {
   "cell_type": "markdown",
   "metadata": {},
   "source": [
    "* steps and functions : \n",
    "    * remove first 7 seconds from each recording \n",
    "    * create labels in every df (alone,spontan,sync)\n",
    "    * concat spon and sync\n",
    "    * drop all the rows with feature 'hands'=1\n",
    "    * split the data according to type of hand and merge it so every frame will be in one row \n",
    "    * reduce the df by taking every 20 frame\n",
    "    * merge alone and hand right so every frame in the alone data will have pair from the right hand data\n",
    "    * concat the 2 data frames into one "
   ]
  },
  {
   "cell_type": "markdown",
   "metadata": {},
   "source": [
    "### help functions:"
   ]
  },
  {
   "cell_type": "markdown",
   "metadata": {},
   "source": [
    "### Create labels in every df"
   ]
  },
  {
   "cell_type": "code",
   "execution_count": 1071,
   "metadata": {},
   "outputs": [],
   "source": [
    "def la(df_spon,df_sync,df_alone):\n",
    "    df_spon['label']=0\n",
    "    df_sync['label']=1\n",
    "    df_alone['label']=2\n",
    "    return df_spon,df_sync,df_alone"
   ]
  },
  {
   "cell_type": "markdown",
   "metadata": {},
   "source": [
    "### now i took care of 2 hands situation: first, concat spon and sync and reset indexes (because i dropped first 7 seconds)"
   ]
  },
  {
   "cell_type": "code",
   "execution_count": 1072,
   "metadata": {},
   "outputs": [],
   "source": [
    "def con_sy_sp(df_spon,df_sync):\n",
    "    df_sposyn= pd.concat([df_spon,df_sync])\n",
    "    df_sposyn.reset_index()\n",
    "    return df_sposyn"
   ]
  },
  {
   "cell_type": "markdown",
   "metadata": {},
   "source": [
    "###  drop all the rows with feature 'hands'=1: I checked with 'value_counts' if there are frames with only one hand and dropped them because we are in the dataframe of 2 hands situation"
   ]
  },
  {
   "cell_type": "code",
   "execution_count": 1073,
   "metadata": {},
   "outputs": [],
   "source": [
    "def drop_hand(df_sposyn):\n",
    "    i=df_sposyn.loc[df_sposyn[' # hands']==1].index\n",
    "    df_sposyn=df_sposyn.drop(i)\n",
    "    return df_sposyn"
   ]
  },
  {
   "cell_type": "markdown",
   "metadata": {},
   "source": [
    "### Because every frame has 2 rows (right and left) i merged the frames to one row by split the data to two, according to 'hand type'. Then merge to one row so that only frames which have both hands will include (inner)."
   ]
  },
  {
   "cell_type": "markdown",
   "metadata": {},
   "source": [
    "### Second thing i did is to decrease data, because the frame's times is so closed(difference of about 0.015 beetween the frames) so the movement is neglectible. so i took every 25 frame(about 0.5 second difference) "
   ]
  },
  {
   "cell_type": "code",
   "execution_count": 1112,
   "metadata": {},
   "outputs": [],
   "source": [
    "def right_left_comb(df_sposyn):    \n",
    "    df_sposyn_left=df_sposyn[df_sposyn[' Hand Type']=='left']\n",
    "    df_sposyn_right=df_sposyn[df_sposyn[' Hand Type']=='right']\n",
    "    df_sposyn=pd.merge(df_sposyn_left,df_sposyn_right,on=['Time',' Frame ID',' # hands','label'],how='inner')\n",
    "    df_sposyn=df_sposyn[df_sposyn.index % 20 == 0].reset_index(drop=True)\n",
    "    return df_sposyn"
   ]
  },
  {
   "cell_type": "markdown",
   "metadata": {},
   "source": [
    "### The main function"
   ]
  },
  {
   "cell_type": "code",
   "execution_count": 1115,
   "metadata": {},
   "outputs": [],
   "source": [
    "# Import the data and organize it in 3 lists:spontan, sync, alone\n",
    "def build(file):\n",
    "    paricipants=file\n",
    "    spon_list = []\n",
    "    sync_list = []\n",
    "    alone_list = []\n",
    "    for i, participant in enumerate(paricipants):\n",
    "        participants_files = glob.glob(participant + \"/*.csv\") \n",
    "        for file in participants_files:\n",
    "# remove first 7 seconds from each recording\n",
    "            temp = pd.read_csv(file)\n",
    "            time_to_drop=math.ceil(temp[\"Time\"][0])+7\n",
    "            temp=temp[temp[\"Time\"]>time_to_drop]\n",
    "            \n",
    "            if file.endswith('Spontan.csv'):\n",
    "                spon= temp\n",
    "                spon_list.append(spon)\n",
    "            elif file.endswith('Sync.csv'):\n",
    "                sync= temp\n",
    "                sync_list.append(sync)\n",
    "            elif file.endswith('Alone.csv'):\n",
    "                alone= temp\n",
    "                alone_list.append(alone)\n",
    "                \n",
    "# concat the recordings according to their list, and create data frames of the lists\n",
    "    df_spon = pd.concat(spon_list, axis=0, ignore_index=True)\n",
    "    df_sync = pd.concat(sync_list, axis=0, ignore_index=True)\n",
    "    df_alone = pd.concat(alone_list, axis=0, ignore_index=True)\n",
    "    \n",
    "# function- Create labels in every df    \n",
    "    df_spon,df_sync,df_alone=la(df_spon,df_sync,df_alone)\n",
    "    \n",
    "# function- now i took care of 2 hands situation and after in 1 hand situation: first, concat spon and sync\n",
    "    df_sposyn=con_sy_sp(df_spon,df_sync)\n",
    "    \n",
    "# function- drop all the rows with feature 'hands'=1     \n",
    "    df_sposyn=drop_hand(df_sposyn)\n",
    "    \n",
    "# function- split the data according to type of hand and merge it so every frame will be in one row and diminish by taking every 20 frame\n",
    "    df_sposyn=right_left_comb(df_sposyn)\n",
    "    \n",
    "# one hand situation: merge alone and hand right so every frame in the alone data will have pair from the right hand data\n",
    "    df_hr=pd.read_csv(\"C:/Users/97254/.conda/Handright.csv\")\n",
    "    df_alone= df_alone[df_alone.index % 20 == 0].reset_index(drop=True)\n",
    "    df1=pd.merge(df_alone, df_hr,on=['Time',' Frame ID',' # hands'],left_index=True, right_index=True).reset_index(drop=True)\n",
    "    \n",
    "# concat the 2 data frames into one    \n",
    "    df=pd.concat([df1,df_sposyn])\n",
    "    \n",
    "# change 'hand type' to numeric value    \n",
    "    df[\" Hand Type_x\"]=Series([1 if i==\"right\" else 2 for i in df[\" Hand Type_x\"]])\n",
    "    df[\" Hand Type_y\"]=Series([1 if i==\"right\" else 2 for i in df[\" Hand Type_y\"]])\n",
    "    \n",
    "    return df"
   ]
  },
  {
   "cell_type": "markdown",
   "metadata": {},
   "source": [
    "#### Create training set"
   ]
  },
  {
   "cell_type": "code",
   "execution_count": 1119,
   "metadata": {},
   "outputs": [
    {
     "data": {
      "text/html": [
       "<div>\n",
       "<style scoped>\n",
       "    .dataframe tbody tr th:only-of-type {\n",
       "        vertical-align: middle;\n",
       "    }\n",
       "\n",
       "    .dataframe tbody tr th {\n",
       "        vertical-align: top;\n",
       "    }\n",
       "\n",
       "    .dataframe thead th {\n",
       "        text-align: right;\n",
       "    }\n",
       "</style>\n",
       "<table border=\"1\" class=\"dataframe\">\n",
       "  <thead>\n",
       "    <tr style=\"text-align: right;\">\n",
       "      <th></th>\n",
       "      <th>Time</th>\n",
       "      <th>Frame ID</th>\n",
       "      <th>Hand Type_x</th>\n",
       "      <th># hands</th>\n",
       "      <th>Position X_x</th>\n",
       "      <th>Position Y_x</th>\n",
       "      <th>Position Z_x</th>\n",
       "      <th>Velocity X_x</th>\n",
       "      <th>Velocity Y_x</th>\n",
       "      <th>Velocity Z_x</th>\n",
       "      <th>...</th>\n",
       "      <th>Yaw_y</th>\n",
       "      <th>Wrist Pos X_y</th>\n",
       "      <th>Wrist Pos Y_y</th>\n",
       "      <th>Wrist Pos Z_y</th>\n",
       "      <th>Elbow pos X_y</th>\n",
       "      <th>Elbow Pos Y_y</th>\n",
       "      <th>Elbow Pos Z_y</th>\n",
       "      <th>Grab Strenth_y</th>\n",
       "      <th>Grab Angle_y</th>\n",
       "      <th>Pinch Strength_y</th>\n",
       "    </tr>\n",
       "  </thead>\n",
       "  <tbody>\n",
       "    <tr>\n",
       "      <th>0</th>\n",
       "      <td>526.0007</td>\n",
       "      <td>150449</td>\n",
       "      <td>2</td>\n",
       "      <td>1</td>\n",
       "      <td>-46.60518</td>\n",
       "      <td>178.0750</td>\n",
       "      <td>-18.757020</td>\n",
       "      <td>5.439669</td>\n",
       "      <td>96.98898</td>\n",
       "      <td>-12.102810</td>\n",
       "      <td>...</td>\n",
       "      <td>-0.277800</td>\n",
       "      <td>46.88831</td>\n",
       "      <td>207.3548</td>\n",
       "      <td>86.23589</td>\n",
       "      <td>203.8337</td>\n",
       "      <td>49.33507</td>\n",
       "      <td>237.4553</td>\n",
       "      <td>0.0</td>\n",
       "      <td>0.206389</td>\n",
       "      <td>0.0</td>\n",
       "    </tr>\n",
       "    <tr>\n",
       "      <th>1</th>\n",
       "      <td>526.3321</td>\n",
       "      <td>150487</td>\n",
       "      <td>2</td>\n",
       "      <td>1</td>\n",
       "      <td>-82.96159</td>\n",
       "      <td>210.8063</td>\n",
       "      <td>10.284130</td>\n",
       "      <td>-52.457070</td>\n",
       "      <td>131.90300</td>\n",
       "      <td>28.221230</td>\n",
       "      <td>...</td>\n",
       "      <td>-0.277763</td>\n",
       "      <td>47.54861</td>\n",
       "      <td>205.6568</td>\n",
       "      <td>86.42250</td>\n",
       "      <td>203.9553</td>\n",
       "      <td>47.88272</td>\n",
       "      <td>238.4482</td>\n",
       "      <td>0.0</td>\n",
       "      <td>0.243050</td>\n",
       "      <td>0.0</td>\n",
       "    </tr>\n",
       "    <tr>\n",
       "      <th>2</th>\n",
       "      <td>526.6634</td>\n",
       "      <td>150526</td>\n",
       "      <td>2</td>\n",
       "      <td>1</td>\n",
       "      <td>-63.11705</td>\n",
       "      <td>192.6812</td>\n",
       "      <td>-7.632673</td>\n",
       "      <td>93.749050</td>\n",
       "      <td>34.06847</td>\n",
       "      <td>2.696202</td>\n",
       "      <td>...</td>\n",
       "      <td>-0.278792</td>\n",
       "      <td>48.15030</td>\n",
       "      <td>204.5182</td>\n",
       "      <td>86.35149</td>\n",
       "      <td>204.6231</td>\n",
       "      <td>45.35921</td>\n",
       "      <td>236.8544</td>\n",
       "      <td>0.0</td>\n",
       "      <td>0.281134</td>\n",
       "      <td>0.0</td>\n",
       "    </tr>\n",
       "    <tr>\n",
       "      <th>3</th>\n",
       "      <td>526.9948</td>\n",
       "      <td>150564</td>\n",
       "      <td>2</td>\n",
       "      <td>1</td>\n",
       "      <td>-76.75766</td>\n",
       "      <td>213.6548</td>\n",
       "      <td>10.548470</td>\n",
       "      <td>-145.365600</td>\n",
       "      <td>114.27200</td>\n",
       "      <td>101.967700</td>\n",
       "      <td>...</td>\n",
       "      <td>-0.279768</td>\n",
       "      <td>48.64175</td>\n",
       "      <td>203.9989</td>\n",
       "      <td>86.16056</td>\n",
       "      <td>204.9939</td>\n",
       "      <td>44.18692</td>\n",
       "      <td>236.0927</td>\n",
       "      <td>0.0</td>\n",
       "      <td>0.277691</td>\n",
       "      <td>0.0</td>\n",
       "    </tr>\n",
       "    <tr>\n",
       "      <th>4</th>\n",
       "      <td>527.3260</td>\n",
       "      <td>150602</td>\n",
       "      <td>2</td>\n",
       "      <td>1</td>\n",
       "      <td>-97.93488</td>\n",
       "      <td>186.8898</td>\n",
       "      <td>42.763890</td>\n",
       "      <td>165.204900</td>\n",
       "      <td>-490.28790</td>\n",
       "      <td>-206.944100</td>\n",
       "      <td>...</td>\n",
       "      <td>-0.278629</td>\n",
       "      <td>48.93135</td>\n",
       "      <td>203.3777</td>\n",
       "      <td>85.59017</td>\n",
       "      <td>204.5952</td>\n",
       "      <td>42.68003</td>\n",
       "      <td>235.2896</td>\n",
       "      <td>0.0</td>\n",
       "      <td>0.283008</td>\n",
       "      <td>0.0</td>\n",
       "    </tr>\n",
       "  </tbody>\n",
       "</table>\n",
       "<p>5 rows × 42 columns</p>\n",
       "</div>"
      ],
      "text/plain": [
       "       Time   Frame ID   Hand Type_x   # hands   Position X_x   Position Y_x  \\\n",
       "0  526.0007     150449             2         1      -46.60518       178.0750   \n",
       "1  526.3321     150487             2         1      -82.96159       210.8063   \n",
       "2  526.6634     150526             2         1      -63.11705       192.6812   \n",
       "3  526.9948     150564             2         1      -76.75766       213.6548   \n",
       "4  527.3260     150602             2         1      -97.93488       186.8898   \n",
       "\n",
       "    Position Z_x   Velocity X_x   Velocity Y_x   Velocity Z_x  ...     Yaw_y  \\\n",
       "0     -18.757020       5.439669       96.98898     -12.102810  ... -0.277800   \n",
       "1      10.284130     -52.457070      131.90300      28.221230  ... -0.277763   \n",
       "2      -7.632673      93.749050       34.06847       2.696202  ... -0.278792   \n",
       "3      10.548470    -145.365600      114.27200     101.967700  ... -0.279768   \n",
       "4      42.763890     165.204900     -490.28790    -206.944100  ... -0.278629   \n",
       "\n",
       "    Wrist Pos X_y   Wrist Pos Y_y   Wrist Pos Z_y   Elbow pos X_y  \\\n",
       "0        46.88831        207.3548        86.23589        203.8337   \n",
       "1        47.54861        205.6568        86.42250        203.9553   \n",
       "2        48.15030        204.5182        86.35149        204.6231   \n",
       "3        48.64175        203.9989        86.16056        204.9939   \n",
       "4        48.93135        203.3777        85.59017        204.5952   \n",
       "\n",
       "    Elbow Pos Y_y   Elbow Pos Z_y   Grab Strenth_y   Grab Angle_y  \\\n",
       "0        49.33507        237.4553              0.0       0.206389   \n",
       "1        47.88272        238.4482              0.0       0.243050   \n",
       "2        45.35921        236.8544              0.0       0.281134   \n",
       "3        44.18692        236.0927              0.0       0.277691   \n",
       "4        42.68003        235.2896              0.0       0.283008   \n",
       "\n",
       "    Pinch Strength_y  \n",
       "0                0.0  \n",
       "1                0.0  \n",
       "2                0.0  \n",
       "3                0.0  \n",
       "4                0.0  \n",
       "\n",
       "[5 rows x 42 columns]"
      ]
     },
     "execution_count": 1119,
     "metadata": {},
     "output_type": "execute_result"
    }
   ],
   "source": [
    "df=build(glob.glob(r'C:/Users/97254/.conda/Training/' + \"/*\"))   \n",
    "df.head()"
   ]
  },
  {
   "cell_type": "code",
   "execution_count": 1120,
   "metadata": {},
   "outputs": [
    {
     "data": {
      "text/plain": [
       "(5093, 42)"
      ]
     },
     "execution_count": 1120,
     "metadata": {},
     "output_type": "execute_result"
    }
   ],
   "source": [
    "df.shape"
   ]
  },
  {
   "cell_type": "code",
   "execution_count": 1067,
   "metadata": {},
   "outputs": [],
   "source": [
    "df_test=build(glob.glob(r'C:/Users/97254/.eclipse/Validation/' + \"/*\"))"
   ]
  },
  {
   "cell_type": "code",
   "execution_count": 1068,
   "metadata": {},
   "outputs": [],
   "source": [
    "# df_val=build(glob.glob(r'C:/Users/97254/.conda/Val/' + \"/*\"))"
   ]
  },
  {
   "cell_type": "markdown",
   "metadata": {},
   "source": [
    "### Visualization"
   ]
  },
  {
   "cell_type": "code",
   "execution_count": 1075,
   "metadata": {},
   "outputs": [
    {
     "data": {
      "text/plain": [
       "Text(0, 0.5, 'X pos left')"
      ]
     },
     "execution_count": 1075,
     "metadata": {},
     "output_type": "execute_result"
    },
    {
     "data": {
      "image/png": "[encoded data removed]",
      "text/plain": [
       "<Figure size 432x288 with 1 Axes>"
      ]
     },
     "metadata": {
      "needs_background": "light"
     },
     "output_type": "display_data"
    }
   ],
   "source": [
    "sns.scatterplot(x=\" Position Z_y\", y=\" Position Z_x\", hue=\"label\", data=df)\n",
    "plt.xlabel('X pos right')\n",
    "plt.ylabel('X pos left')"
   ]
  },
  {
   "cell_type": "code",
   "execution_count": 1076,
   "metadata": {},
   "outputs": [
    {
     "data": {
      "text/plain": [
       "Text(0.5, 0, 'Left Position Z')"
      ]
     },
     "execution_count": 1076,
     "metadata": {},
     "output_type": "execute_result"
    },
    {
     "data": {
      "image/png": "[encoded data removed]",
      "text/plain": [
       "<Figure size 432x432 with 1 Axes>"
      ]
     },
     "metadata": {},
     "output_type": "display_data"
    },
    {
     "data": {
      "image/png": "[encoded data removed]",
      "text/plain": [
       "<Figure size 432x432 with 1 Axes>"
      ]
     },
     "metadata": {},
     "output_type": "display_data"
    }
   ],
   "source": [
    "sns.set_style(\"whitegrid\", {'axes.grid' : False})\n",
    "\n",
    "fig1 = plt.figure(figsize=(6,6))\n",
    "ax = Axes3D(fig1) \n",
    "x1 = df[' Position X_x']\n",
    "y1 = df[' Position Y_x']\n",
    "z1 = df[' Position Z_x']\n",
    "ax.scatter(x1, y1, z1, c=x1, marker='o')\n",
    "ax.set_xlabel('Right Position X')\n",
    "ax.set_ylabel('Right Position Y')\n",
    "ax.set_zlabel('Right Position Z')\n",
    "\n",
    "fig2 = plt.figure(figsize=(6,6))\n",
    "ax = Axes3D(fig2) \n",
    "x2 = df[' Position X_y']\n",
    "y2 = df[' Position Y_y']\n",
    "z2 = df[' Position Z_y']\n",
    "ax.scatter(x2, y2, z2, c=x2, marker='o')\n",
    "ax.set_xlabel('Left Position X')\n",
    "ax.set_ylabel('Left Position Y')\n",
    "ax.set_zlabel('Left Position Z')"
   ]
  },
  {
   "cell_type": "code",
   "execution_count": 1077,
   "metadata": {},
   "outputs": [
    {
     "data": {
      "text/html": [
       "<div>\n",
       "<style scoped>\n",
       "    .dataframe tbody tr th:only-of-type {\n",
       "        vertical-align: middle;\n",
       "    }\n",
       "\n",
       "    .dataframe tbody tr th {\n",
       "        vertical-align: top;\n",
       "    }\n",
       "\n",
       "    .dataframe thead th {\n",
       "        text-align: right;\n",
       "    }\n",
       "</style>\n",
       "<table border=\"1\" class=\"dataframe\">\n",
       "  <thead>\n",
       "    <tr style=\"text-align: right;\">\n",
       "      <th></th>\n",
       "      <th>Hand Type_x</th>\n",
       "      <th>Position X_x</th>\n",
       "      <th>Position Y_x</th>\n",
       "      <th>Position Z_x</th>\n",
       "      <th>Velocity X_x</th>\n",
       "      <th>Velocity Y_x</th>\n",
       "      <th>Velocity Z_x</th>\n",
       "      <th>Pitch_x</th>\n",
       "      <th>Roll_x</th>\n",
       "      <th>Yaw_x</th>\n",
       "      <th>...</th>\n",
       "      <th>Yaw_y</th>\n",
       "      <th>Wrist Pos X_y</th>\n",
       "      <th>Wrist Pos Y_y</th>\n",
       "      <th>Wrist Pos Z_y</th>\n",
       "      <th>Elbow pos X_y</th>\n",
       "      <th>Elbow Pos Y_y</th>\n",
       "      <th>Elbow Pos Z_y</th>\n",
       "      <th>Grab Strenth_y</th>\n",
       "      <th>Grab Angle_y</th>\n",
       "      <th>Pinch Strength_y</th>\n",
       "    </tr>\n",
       "  </thead>\n",
       "  <tbody>\n",
       "    <tr>\n",
       "      <th>0</th>\n",
       "      <td>2</td>\n",
       "      <td>-46.60518</td>\n",
       "      <td>178.0750</td>\n",
       "      <td>-18.757020</td>\n",
       "      <td>5.439669</td>\n",
       "      <td>96.98898</td>\n",
       "      <td>-12.102810</td>\n",
       "      <td>0.670744</td>\n",
       "      <td>2.865586</td>\n",
       "      <td>1.276748</td>\n",
       "      <td>...</td>\n",
       "      <td>-0.277800</td>\n",
       "      <td>46.88831</td>\n",
       "      <td>207.3548</td>\n",
       "      <td>86.23589</td>\n",
       "      <td>203.8337</td>\n",
       "      <td>49.33507</td>\n",
       "      <td>237.45530</td>\n",
       "      <td>0.0</td>\n",
       "      <td>0.206389</td>\n",
       "      <td>0.0</td>\n",
       "    </tr>\n",
       "    <tr>\n",
       "      <th>1</th>\n",
       "      <td>2</td>\n",
       "      <td>-82.96159</td>\n",
       "      <td>210.8063</td>\n",
       "      <td>10.284130</td>\n",
       "      <td>-52.457070</td>\n",
       "      <td>131.90300</td>\n",
       "      <td>28.221230</td>\n",
       "      <td>1.345710</td>\n",
       "      <td>-2.909553</td>\n",
       "      <td>1.443998</td>\n",
       "      <td>...</td>\n",
       "      <td>-0.277763</td>\n",
       "      <td>47.54861</td>\n",
       "      <td>205.6568</td>\n",
       "      <td>86.42250</td>\n",
       "      <td>203.9553</td>\n",
       "      <td>47.88272</td>\n",
       "      <td>238.44820</td>\n",
       "      <td>0.0</td>\n",
       "      <td>0.243050</td>\n",
       "      <td>0.0</td>\n",
       "    </tr>\n",
       "    <tr>\n",
       "      <th>2</th>\n",
       "      <td>2</td>\n",
       "      <td>-63.11705</td>\n",
       "      <td>192.6812</td>\n",
       "      <td>-7.632673</td>\n",
       "      <td>93.749050</td>\n",
       "      <td>34.06847</td>\n",
       "      <td>2.696202</td>\n",
       "      <td>0.829947</td>\n",
       "      <td>2.595297</td>\n",
       "      <td>1.169258</td>\n",
       "      <td>...</td>\n",
       "      <td>-0.278792</td>\n",
       "      <td>48.15030</td>\n",
       "      <td>204.5182</td>\n",
       "      <td>86.35149</td>\n",
       "      <td>204.6231</td>\n",
       "      <td>45.35921</td>\n",
       "      <td>236.85440</td>\n",
       "      <td>0.0</td>\n",
       "      <td>0.281134</td>\n",
       "      <td>0.0</td>\n",
       "    </tr>\n",
       "    <tr>\n",
       "      <th>3</th>\n",
       "      <td>2</td>\n",
       "      <td>-76.75766</td>\n",
       "      <td>213.6548</td>\n",
       "      <td>10.548470</td>\n",
       "      <td>-145.365600</td>\n",
       "      <td>114.27200</td>\n",
       "      <td>101.967700</td>\n",
       "      <td>1.465660</td>\n",
       "      <td>-2.998167</td>\n",
       "      <td>1.534106</td>\n",
       "      <td>...</td>\n",
       "      <td>-0.279768</td>\n",
       "      <td>48.64175</td>\n",
       "      <td>203.9989</td>\n",
       "      <td>86.16056</td>\n",
       "      <td>204.9939</td>\n",
       "      <td>44.18692</td>\n",
       "      <td>236.09270</td>\n",
       "      <td>0.0</td>\n",
       "      <td>0.277691</td>\n",
       "      <td>0.0</td>\n",
       "    </tr>\n",
       "    <tr>\n",
       "      <th>4</th>\n",
       "      <td>2</td>\n",
       "      <td>-97.93488</td>\n",
       "      <td>186.8898</td>\n",
       "      <td>42.763890</td>\n",
       "      <td>165.204900</td>\n",
       "      <td>-490.28790</td>\n",
       "      <td>-206.944100</td>\n",
       "      <td>0.605371</td>\n",
       "      <td>0.064449</td>\n",
       "      <td>1.469204</td>\n",
       "      <td>...</td>\n",
       "      <td>-0.278629</td>\n",
       "      <td>48.93135</td>\n",
       "      <td>203.3777</td>\n",
       "      <td>85.59017</td>\n",
       "      <td>204.5952</td>\n",
       "      <td>42.68003</td>\n",
       "      <td>235.28960</td>\n",
       "      <td>0.0</td>\n",
       "      <td>0.283008</td>\n",
       "      <td>0.0</td>\n",
       "    </tr>\n",
       "    <tr>\n",
       "      <th>...</th>\n",
       "      <td>...</td>\n",
       "      <td>...</td>\n",
       "      <td>...</td>\n",
       "      <td>...</td>\n",
       "      <td>...</td>\n",
       "      <td>...</td>\n",
       "      <td>...</td>\n",
       "      <td>...</td>\n",
       "      <td>...</td>\n",
       "      <td>...</td>\n",
       "      <td>...</td>\n",
       "      <td>...</td>\n",
       "      <td>...</td>\n",
       "      <td>...</td>\n",
       "      <td>...</td>\n",
       "      <td>...</td>\n",
       "      <td>...</td>\n",
       "      <td>...</td>\n",
       "      <td>...</td>\n",
       "      <td>...</td>\n",
       "      <td>...</td>\n",
       "    </tr>\n",
       "    <tr>\n",
       "      <th>3346</th>\n",
       "      <td>2</td>\n",
       "      <td>-63.16745</td>\n",
       "      <td>165.1045</td>\n",
       "      <td>-17.811840</td>\n",
       "      <td>66.394240</td>\n",
       "      <td>-61.41656</td>\n",
       "      <td>19.222130</td>\n",
       "      <td>0.803445</td>\n",
       "      <td>1.675218</td>\n",
       "      <td>0.639521</td>\n",
       "      <td>...</td>\n",
       "      <td>-0.422340</td>\n",
       "      <td>121.81540</td>\n",
       "      <td>132.1143</td>\n",
       "      <td>45.67406</td>\n",
       "      <td>288.9052</td>\n",
       "      <td>-48.37810</td>\n",
       "      <td>126.36040</td>\n",
       "      <td>0.0</td>\n",
       "      <td>0.000000</td>\n",
       "      <td>0.0</td>\n",
       "    </tr>\n",
       "    <tr>\n",
       "      <th>3347</th>\n",
       "      <td>2</td>\n",
       "      <td>-63.72086</td>\n",
       "      <td>137.7868</td>\n",
       "      <td>-24.259460</td>\n",
       "      <td>-67.014490</td>\n",
       "      <td>114.53140</td>\n",
       "      <td>59.460010</td>\n",
       "      <td>0.112356</td>\n",
       "      <td>2.161582</td>\n",
       "      <td>0.590585</td>\n",
       "      <td>...</td>\n",
       "      <td>-0.460975</td>\n",
       "      <td>124.19840</td>\n",
       "      <td>138.8931</td>\n",
       "      <td>54.04887</td>\n",
       "      <td>321.2383</td>\n",
       "      <td>13.15209</td>\n",
       "      <td>165.27510</td>\n",
       "      <td>0.0</td>\n",
       "      <td>0.000000</td>\n",
       "      <td>0.0</td>\n",
       "    </tr>\n",
       "    <tr>\n",
       "      <th>3348</th>\n",
       "      <td>2</td>\n",
       "      <td>-73.06536</td>\n",
       "      <td>198.9485</td>\n",
       "      <td>-2.659787</td>\n",
       "      <td>-42.794990</td>\n",
       "      <td>169.48770</td>\n",
       "      <td>54.913310</td>\n",
       "      <td>1.052552</td>\n",
       "      <td>1.423043</td>\n",
       "      <td>0.559448</td>\n",
       "      <td>...</td>\n",
       "      <td>-0.730369</td>\n",
       "      <td>132.74440</td>\n",
       "      <td>149.1657</td>\n",
       "      <td>52.21558</td>\n",
       "      <td>296.6189</td>\n",
       "      <td>-49.36496</td>\n",
       "      <td>79.37286</td>\n",
       "      <td>0.0</td>\n",
       "      <td>0.000000</td>\n",
       "      <td>0.0</td>\n",
       "    </tr>\n",
       "    <tr>\n",
       "      <th>3349</th>\n",
       "      <td>2</td>\n",
       "      <td>-77.40852</td>\n",
       "      <td>196.4212</td>\n",
       "      <td>-2.592364</td>\n",
       "      <td>19.632120</td>\n",
       "      <td>-79.73418</td>\n",
       "      <td>-31.711440</td>\n",
       "      <td>1.009325</td>\n",
       "      <td>1.544355</td>\n",
       "      <td>0.540403</td>\n",
       "      <td>...</td>\n",
       "      <td>-0.830340</td>\n",
       "      <td>122.51160</td>\n",
       "      <td>137.2204</td>\n",
       "      <td>57.70804</td>\n",
       "      <td>299.6021</td>\n",
       "      <td>-51.14287</td>\n",
       "      <td>44.86131</td>\n",
       "      <td>0.0</td>\n",
       "      <td>0.000000</td>\n",
       "      <td>0.0</td>\n",
       "    </tr>\n",
       "    <tr>\n",
       "      <th>3350</th>\n",
       "      <td>2</td>\n",
       "      <td>-67.80653</td>\n",
       "      <td>140.8804</td>\n",
       "      <td>-29.613030</td>\n",
       "      <td>-15.119600</td>\n",
       "      <td>31.18960</td>\n",
       "      <td>-13.895900</td>\n",
       "      <td>0.045157</td>\n",
       "      <td>2.282631</td>\n",
       "      <td>0.532713</td>\n",
       "      <td>...</td>\n",
       "      <td>-0.509072</td>\n",
       "      <td>131.16330</td>\n",
       "      <td>151.0646</td>\n",
       "      <td>58.53401</td>\n",
       "      <td>342.6050</td>\n",
       "      <td>53.94796</td>\n",
       "      <td>171.96940</td>\n",
       "      <td>0.0</td>\n",
       "      <td>0.000000</td>\n",
       "      <td>0.0</td>\n",
       "    </tr>\n",
       "  </tbody>\n",
       "</table>\n",
       "<p>5093 rows × 39 columns</p>\n",
       "</div>"
      ],
      "text/plain": [
       "       Hand Type_x   Position X_x   Position Y_x   Position Z_x  \\\n",
       "0                2      -46.60518       178.0750     -18.757020   \n",
       "1                2      -82.96159       210.8063      10.284130   \n",
       "2                2      -63.11705       192.6812      -7.632673   \n",
       "3                2      -76.75766       213.6548      10.548470   \n",
       "4                2      -97.93488       186.8898      42.763890   \n",
       "...            ...            ...            ...            ...   \n",
       "3346             2      -63.16745       165.1045     -17.811840   \n",
       "3347             2      -63.72086       137.7868     -24.259460   \n",
       "3348             2      -73.06536       198.9485      -2.659787   \n",
       "3349             2      -77.40852       196.4212      -2.592364   \n",
       "3350             2      -67.80653       140.8804     -29.613030   \n",
       "\n",
       "       Velocity X_x   Velocity Y_x   Velocity Z_x   Pitch_x    Roll_x  \\\n",
       "0          5.439669       96.98898     -12.102810  0.670744  2.865586   \n",
       "1        -52.457070      131.90300      28.221230  1.345710 -2.909553   \n",
       "2         93.749050       34.06847       2.696202  0.829947  2.595297   \n",
       "3       -145.365600      114.27200     101.967700  1.465660 -2.998167   \n",
       "4        165.204900     -490.28790    -206.944100  0.605371  0.064449   \n",
       "...             ...            ...            ...       ...       ...   \n",
       "3346      66.394240      -61.41656      19.222130  0.803445  1.675218   \n",
       "3347     -67.014490      114.53140      59.460010  0.112356  2.161582   \n",
       "3348     -42.794990      169.48770      54.913310  1.052552  1.423043   \n",
       "3349      19.632120      -79.73418     -31.711440  1.009325  1.544355   \n",
       "3350     -15.119600       31.18960     -13.895900  0.045157  2.282631   \n",
       "\n",
       "         Yaw_x  ...     Yaw_y   Wrist Pos X_y   Wrist Pos Y_y   Wrist Pos Z_y  \\\n",
       "0     1.276748  ... -0.277800        46.88831        207.3548        86.23589   \n",
       "1     1.443998  ... -0.277763        47.54861        205.6568        86.42250   \n",
       "2     1.169258  ... -0.278792        48.15030        204.5182        86.35149   \n",
       "3     1.534106  ... -0.279768        48.64175        203.9989        86.16056   \n",
       "4     1.469204  ... -0.278629        48.93135        203.3777        85.59017   \n",
       "...        ...  ...       ...             ...             ...             ...   \n",
       "3346  0.639521  ... -0.422340       121.81540        132.1143        45.67406   \n",
       "3347  0.590585  ... -0.460975       124.19840        138.8931        54.04887   \n",
       "3348  0.559448  ... -0.730369       132.74440        149.1657        52.21558   \n",
       "3349  0.540403  ... -0.830340       122.51160        137.2204        57.70804   \n",
       "3350  0.532713  ... -0.509072       131.16330        151.0646        58.53401   \n",
       "\n",
       "       Elbow pos X_y   Elbow Pos Y_y   Elbow Pos Z_y   Grab Strenth_y  \\\n",
       "0           203.8337        49.33507       237.45530              0.0   \n",
       "1           203.9553        47.88272       238.44820              0.0   \n",
       "2           204.6231        45.35921       236.85440              0.0   \n",
       "3           204.9939        44.18692       236.09270              0.0   \n",
       "4           204.5952        42.68003       235.28960              0.0   \n",
       "...              ...             ...             ...              ...   \n",
       "3346        288.9052       -48.37810       126.36040              0.0   \n",
       "3347        321.2383        13.15209       165.27510              0.0   \n",
       "3348        296.6189       -49.36496        79.37286              0.0   \n",
       "3349        299.6021       -51.14287        44.86131              0.0   \n",
       "3350        342.6050        53.94796       171.96940              0.0   \n",
       "\n",
       "       Grab Angle_y   Pinch Strength_y  \n",
       "0          0.206389                0.0  \n",
       "1          0.243050                0.0  \n",
       "2          0.281134                0.0  \n",
       "3          0.277691                0.0  \n",
       "4          0.283008                0.0  \n",
       "...             ...                ...  \n",
       "3346       0.000000                0.0  \n",
       "3347       0.000000                0.0  \n",
       "3348       0.000000                0.0  \n",
       "3349       0.000000                0.0  \n",
       "3350       0.000000                0.0  \n",
       "\n",
       "[5093 rows x 39 columns]"
      ]
     },
     "execution_count": 1077,
     "metadata": {},
     "output_type": "execute_result"
    }
   ],
   "source": [
    "df.drop(['Time',' Frame ID',' # hands'],axis=1)"
   ]
  },
  {
   "cell_type": "markdown",
   "metadata": {},
   "source": [
    "#### Train-test split"
   ]
  },
  {
   "cell_type": "code",
   "execution_count": 1078,
   "metadata": {},
   "outputs": [],
   "source": [
    "y = df['label']\n",
    "X = df.drop(['label'], axis=1)\n"
   ]
  },
  {
   "cell_type": "code",
   "execution_count": 1079,
   "metadata": {},
   "outputs": [],
   "source": [
    "X_train, X_val, y_train, y_val = train_test_split(X, y, test_size = 0.3, random_state=42)"
   ]
  },
  {
   "cell_type": "code",
   "execution_count": 1080,
   "metadata": {},
   "outputs": [],
   "source": [
    "# split the test set \n",
    "X_tests=df_test.drop(['label'], axis = 1)\n",
    "y_tests=df_test['label']"
   ]
  },
  {
   "cell_type": "code",
   "execution_count": 1081,
   "metadata": {},
   "outputs": [],
   "source": [
    "# scaling\n",
    "scaler = StandardScaler()\n",
    "X_train = scaler.fit_transform(X_train)\n",
    "X_val = scaler.transform(X_val)\n",
    "X_reduced_tes = scaler.transform(X_tests)"
   ]
  },
  {
   "cell_type": "code",
   "execution_count": 1082,
   "metadata": {},
   "outputs": [],
   "source": [
    "# pca\n",
    "pca = PCA(n_components=15)\n",
    "X_train_reduced = pca.fit_transform(X_train)\n",
    "#transform also the test set\n",
    "X_val_red=pca.transform(X_val)\n",
    "X_reduced_tes = pca.transform(X_reduced_tes)"
   ]
  },
  {
   "cell_type": "markdown",
   "metadata": {},
   "source": [
    "### Modeling"
   ]
  },
  {
   "cell_type": "markdown",
   "metadata": {},
   "source": [
    "* First, train the models on the training set and check the best parameters for some models using GridSearchCv\n",
    "* Then, evaluate on the validation set\n",
    "* Finally, after finishing train the models on the validation set, check them on the test set "
   ]
  },
  {
   "cell_type": "code",
   "execution_count": 1083,
   "metadata": {},
   "outputs": [],
   "source": [
    "def result(model):\n",
    "    res=  Pipeline([('model', model)])\n",
    "    res.fit(X_train_reduced, y_train)\n",
    "    print(round(res.score(X_val_red,y_val)*100,4),\"%\")\n",
    "\n",
    "    "
   ]
  },
  {
   "cell_type": "markdown",
   "metadata": {},
   "source": [
    "### Knn"
   ]
  },
  {
   "cell_type": "code",
   "execution_count": 1084,
   "metadata": {},
   "outputs": [
    {
     "data": {
      "text/plain": [
       "GridSearchCV(cv=5, estimator=KNeighborsClassifier(),\n",
       "             param_grid=[{'algorithm': ['auto', 'ball_tree', 'kd_tree',\n",
       "                                        'brute'],\n",
       "                          'n_neighbors': [5, 7, 10, 16, 22]}],\n",
       "             scoring='accuracy')"
      ]
     },
     "execution_count": 1084,
     "metadata": {},
     "output_type": "execute_result"
    }
   ],
   "source": [
    "param_grid_knn=[{'n_neighbors': [5,7,10,16,22],'algorithm': ['auto', 'ball_tree', 'kd_tree', 'brute']}]\n",
    "model=KNeighborsClassifier()\n",
    "grid_search_knn=GridSearchCV(model,param_grid_knn,cv=5,scoring='accuracy')\n",
    "grid_search_knn.fit(X_train_reduced, y_train)"
   ]
  },
  {
   "cell_type": "code",
   "execution_count": 1085,
   "metadata": {},
   "outputs": [
    {
     "data": {
      "text/plain": [
       "{'algorithm': 'auto', 'n_neighbors': 5}"
      ]
     },
     "execution_count": 1085,
     "metadata": {},
     "output_type": "execute_result"
    }
   ],
   "source": [
    "grid_search_knn.best_params_"
   ]
  },
  {
   "cell_type": "code",
   "execution_count": 1086,
   "metadata": {},
   "outputs": [
    {
     "name": "stdout",
     "output_type": "stream",
     "text": [
      "94.0445 %\n"
     ]
    }
   ],
   "source": [
    "knn = KNeighborsClassifier(n_neighbors = 10)\n",
    "result(knn)"
   ]
  },
  {
   "cell_type": "markdown",
   "metadata": {},
   "source": [
    "### Random forrest"
   ]
  },
  {
   "cell_type": "code",
   "execution_count": 1087,
   "metadata": {},
   "outputs": [
    {
     "data": {
      "text/plain": [
       "GridSearchCV(cv=3, estimator=RandomForestClassifier(),\n",
       "             param_grid=[{'max_depth': [7, 12, 15, 18, 20],\n",
       "                          'n_estimators': [100, 150, 175, 200, 225]}],\n",
       "             scoring='accuracy')"
      ]
     },
     "execution_count": 1087,
     "metadata": {},
     "output_type": "execute_result"
    }
   ],
   "source": [
    "param_grid_rf=[{'n_estimators':[100,150,175,200,225],'max_depth':[7,12,15,18,20]}]\n",
    "model=RandomForestClassifier()\n",
    "grid=GridSearchCV(model,param_grid_rf,cv=3,scoring='accuracy')\n",
    "grid.fit(X_train_reduced, y_train)"
   ]
  },
  {
   "cell_type": "code",
   "execution_count": 1088,
   "metadata": {},
   "outputs": [
    {
     "data": {
      "text/plain": [
       "{'max_depth': 20, 'n_estimators': 225}"
      ]
     },
     "execution_count": 1088,
     "metadata": {},
     "output_type": "execute_result"
    }
   ],
   "source": [
    "grid.best_params_"
   ]
  },
  {
   "cell_type": "code",
   "execution_count": 1089,
   "metadata": {},
   "outputs": [
    {
     "name": "stdout",
     "output_type": "stream",
     "text": [
      "94.0445 %\n"
     ]
    }
   ],
   "source": [
    "rf = RandomForestClassifier(max_depth=20, n_estimators=175)\n",
    "result(rf)"
   ]
  },
  {
   "cell_type": "markdown",
   "metadata": {},
   "source": [
    "### Logistic regression"
   ]
  },
  {
   "cell_type": "code",
   "execution_count": 1090,
   "metadata": {},
   "outputs": [
    {
     "data": {
      "text/plain": [
       "GridSearchCV(cv=3, estimator=LogisticRegression(),\n",
       "             param_grid=[{'C': [0.1, 0.5, 1, 5, 10, 50, 100],\n",
       "                          'penalty': ['l1', 'l2', 'elasticnet', 'none']}],\n",
       "             scoring='accuracy')"
      ]
     },
     "execution_count": 1090,
     "metadata": {},
     "output_type": "execute_result"
    }
   ],
   "source": [
    "param_grid_lr=[{'penalty':['l1', 'l2','elasticnet','none'],'C': [0.1, 0.5, 1, 5, 10, 50, 100]}]\n",
    "model=LogisticRegression()\n",
    "grid_lr=GridSearchCV(model,param_grid_lr,cv=3,scoring='accuracy')\n",
    "grid_lr.fit(X_train_reduced, y_train)"
   ]
  },
  {
   "cell_type": "code",
   "execution_count": 1091,
   "metadata": {},
   "outputs": [
    {
     "data": {
      "text/plain": [
       "{'C': 50, 'penalty': 'l2'}"
      ]
     },
     "execution_count": 1091,
     "metadata": {},
     "output_type": "execute_result"
    }
   ],
   "source": [
    "grid_lr.best_params_"
   ]
  },
  {
   "cell_type": "code",
   "execution_count": 1092,
   "metadata": {},
   "outputs": [
    {
     "name": "stdout",
     "output_type": "stream",
     "text": [
      "88.2853 %\n"
     ]
    }
   ],
   "source": [
    "lr = LogisticRegression(penalty= 'l2',C=0.1)\n",
    "result(lr)"
   ]
  },
  {
   "cell_type": "markdown",
   "metadata": {},
   "source": [
    "### Xgboost"
   ]
  },
  {
   "cell_type": "code",
   "execution_count": 1093,
   "metadata": {},
   "outputs": [
    {
     "data": {
      "text/plain": [
       "GridSearchCV(cv=2,\n",
       "             estimator=XGBClassifier(base_score=None, booster=None,\n",
       "                                     colsample_bylevel=None,\n",
       "                                     colsample_bynode=None,\n",
       "                                     colsample_bytree=None,\n",
       "                                     eval_metric='mlogloss', gamma=None,\n",
       "                                     gpu_id=None, importance_type='gain',\n",
       "                                     interaction_constraints=None,\n",
       "                                     learning_rate=None, max_delta_step=None,\n",
       "                                     max_depth=None, min_child_weight=None,\n",
       "                                     missing=nan, monotone_constraints=None,\n",
       "                                     n_estimators=100, n_jobs=None,\n",
       "                                     num_parallel_tree=None, random_state=None,\n",
       "                                     reg_alpha=None, reg_lambda=None,\n",
       "                                     scale_pos_weight=None, subsample=None,\n",
       "                                     tree_method=None, validate_parameters=None,\n",
       "                                     verbosity=None),\n",
       "             param_grid=[{'learning_rate': [0.2, 0.5, 1, 1.5, 2],\n",
       "                          'n_estimators': [160, 180, 200, 220, 240]}],\n",
       "             scoring='accuracy')"
      ]
     },
     "execution_count": 1093,
     "metadata": {},
     "output_type": "execute_result"
    }
   ],
   "source": [
    "param_grid_xg=[{'n_estimators':[160,180,200,220,240],'learning_rate':[0.2,0.5,1,1.5,2]}]\n",
    "model=XGBClassifier(eval_metric='mlogloss')\n",
    "grid_search_xg=GridSearchCV(model,param_grid_xg,cv=2,scoring='accuracy')\n",
    "grid_search_xg.fit(X_train_reduced, y_train)"
   ]
  },
  {
   "cell_type": "code",
   "execution_count": 1094,
   "metadata": {},
   "outputs": [
    {
     "data": {
      "text/plain": [
       "{'learning_rate': 0.2, 'n_estimators': 240}"
      ]
     },
     "execution_count": 1094,
     "metadata": {},
     "output_type": "execute_result"
    }
   ],
   "source": [
    "grid_search_xg.best_params_"
   ]
  },
  {
   "cell_type": "code",
   "execution_count": 1095,
   "metadata": {},
   "outputs": [
    {
     "name": "stdout",
     "output_type": "stream",
     "text": [
      "94.9607 %\n"
     ]
    }
   ],
   "source": [
    "xgb = XGBClassifier(eval_metric='mlogloss', learning_rate = 0.5, n_estimators= 240)\n",
    "result(xgb)"
   ]
  },
  {
   "cell_type": "markdown",
   "metadata": {},
   "source": [
    "### Stacking"
   ]
  },
  {
   "cell_type": "code",
   "execution_count": 1096,
   "metadata": {},
   "outputs": [
    {
     "name": "stdout",
     "output_type": "stream",
     "text": [
      "96.2696 %\n"
     ]
    }
   ],
   "source": [
    "stacking=StackingClassifier([\n",
    "        ('rf', RandomForestClassifier(max_depth=20,n_estimators= 225)),    \n",
    "        ('knn', KNeighborsClassifier(n_neighbors=5,algorithm='auto'),\n",
    "        ('xgb', XGBClassifier(eval_metric='mlogloss', learning_rate=0.5, n_estimators=240))\n",
    "        )])\n",
    "result(stacking)"
   ]
  },
  {
   "cell_type": "markdown",
   "metadata": {},
   "source": [
    "## Subtotal"
   ]
  },
  {
   "cell_type": "code",
   "execution_count": 1118,
   "metadata": {},
   "outputs": [
    {
     "data": {
      "text/html": [
       "<div>\n",
       "<style scoped>\n",
       "    .dataframe tbody tr th:only-of-type {\n",
       "        vertical-align: middle;\n",
       "    }\n",
       "\n",
       "    .dataframe tbody tr th {\n",
       "        vertical-align: top;\n",
       "    }\n",
       "\n",
       "    .dataframe thead th {\n",
       "        text-align: right;\n",
       "    }\n",
       "</style>\n",
       "<table border=\"1\" class=\"dataframe\">\n",
       "  <thead>\n",
       "    <tr style=\"text-align: right;\">\n",
       "      <th></th>\n",
       "      <th>knn</th>\n",
       "      <th>Random Forest</th>\n",
       "      <th>xgboost</th>\n",
       "      <th>voting</th>\n",
       "      <th>stacking</th>\n",
       "      <th>logistic regression</th>\n",
       "    </tr>\n",
       "  </thead>\n",
       "  <tbody>\n",
       "    <tr>\n",
       "      <th>accuracy</th>\n",
       "      <td>94.04%</td>\n",
       "      <td>94.04%</td>\n",
       "      <td>94.96%</td>\n",
       "      <td>NaN</td>\n",
       "      <td>96.26%</td>\n",
       "      <td>88.28%</td>\n",
       "    </tr>\n",
       "  </tbody>\n",
       "</table>\n",
       "</div>"
      ],
      "text/plain": [
       "             knn Random Forest xgboost voting stacking logistic regression\n",
       "accuracy  94.04%        94.04%  94.96%    NaN   96.26%              88.28%"
      ]
     },
     "execution_count": 1118,
     "metadata": {},
     "output_type": "execute_result"
    }
   ],
   "source": [
    "data = {'knn':  ['94.04%'],\n",
    "        'Random Forest': ['94.04%'],\n",
    "        'xgboost':['94.96%'],\n",
    "        'stacking':['96.26%'],\n",
    "        'logistic regression':['88.28%']\n",
    "        }\n",
    "df = pd.DataFrame (data, columns = ['knn','Random Forest','xgboost','voting','stacking','logistic regression']\n",
    "                   ,index=['accuracy'])\n",
    "df"
   ]
  },
  {
   "cell_type": "markdown",
   "metadata": {},
   "source": [
    "### Testing"
   ]
  },
  {
   "cell_type": "markdown",
   "metadata": {},
   "source": [
    "i will take the 3 models and see the score on the test set. i will do it one time and this is the final result"
   ]
  },
  {
   "cell_type": "code",
   "execution_count": 1097,
   "metadata": {},
   "outputs": [
    {
     "data": {
      "text/html": [
       "<div>\n",
       "<style scoped>\n",
       "    .dataframe tbody tr th:only-of-type {\n",
       "        vertical-align: middle;\n",
       "    }\n",
       "\n",
       "    .dataframe tbody tr th {\n",
       "        vertical-align: top;\n",
       "    }\n",
       "\n",
       "    .dataframe thead th {\n",
       "        text-align: right;\n",
       "    }\n",
       "</style>\n",
       "<table border=\"1\" class=\"dataframe\">\n",
       "  <thead>\n",
       "    <tr style=\"text-align: right;\">\n",
       "      <th></th>\n",
       "      <th>Hand Type_x</th>\n",
       "      <th>Position X_x</th>\n",
       "      <th>Position Y_x</th>\n",
       "      <th>Position Z_x</th>\n",
       "      <th>Velocity X_x</th>\n",
       "      <th>Velocity Y_x</th>\n",
       "      <th>Velocity Z_x</th>\n",
       "      <th>Pitch_x</th>\n",
       "      <th>Roll_x</th>\n",
       "      <th>Yaw_x</th>\n",
       "      <th>...</th>\n",
       "      <th>Yaw_y</th>\n",
       "      <th>Wrist Pos X_y</th>\n",
       "      <th>Wrist Pos Y_y</th>\n",
       "      <th>Wrist Pos Z_y</th>\n",
       "      <th>Elbow pos X_y</th>\n",
       "      <th>Elbow Pos Y_y</th>\n",
       "      <th>Elbow Pos Z_y</th>\n",
       "      <th>Grab Strenth_y</th>\n",
       "      <th>Grab Angle_y</th>\n",
       "      <th>Pinch Strength_y</th>\n",
       "    </tr>\n",
       "  </thead>\n",
       "  <tbody>\n",
       "    <tr>\n",
       "      <th>0</th>\n",
       "      <td>2</td>\n",
       "      <td>40.419110</td>\n",
       "      <td>194.2201</td>\n",
       "      <td>21.29477</td>\n",
       "      <td>-32.302420</td>\n",
       "      <td>0.189444</td>\n",
       "      <td>-54.704640</td>\n",
       "      <td>0.698933</td>\n",
       "      <td>-2.968176</td>\n",
       "      <td>1.246851</td>\n",
       "      <td>...</td>\n",
       "      <td>-0.277800</td>\n",
       "      <td>46.88831</td>\n",
       "      <td>207.3548</td>\n",
       "      <td>86.23589</td>\n",
       "      <td>203.8337</td>\n",
       "      <td>49.33507</td>\n",
       "      <td>237.4553</td>\n",
       "      <td>0.0</td>\n",
       "      <td>0.206389</td>\n",
       "      <td>0.0</td>\n",
       "    </tr>\n",
       "    <tr>\n",
       "      <th>1</th>\n",
       "      <td>2</td>\n",
       "      <td>-3.151465</td>\n",
       "      <td>230.1641</td>\n",
       "      <td>30.89721</td>\n",
       "      <td>-200.725800</td>\n",
       "      <td>304.557400</td>\n",
       "      <td>85.467500</td>\n",
       "      <td>0.973467</td>\n",
       "      <td>-2.351039</td>\n",
       "      <td>0.904124</td>\n",
       "      <td>...</td>\n",
       "      <td>-0.277763</td>\n",
       "      <td>47.54861</td>\n",
       "      <td>205.6568</td>\n",
       "      <td>86.42250</td>\n",
       "      <td>203.9553</td>\n",
       "      <td>47.88272</td>\n",
       "      <td>238.4482</td>\n",
       "      <td>0.0</td>\n",
       "      <td>0.243050</td>\n",
       "      <td>0.0</td>\n",
       "    </tr>\n",
       "    <tr>\n",
       "      <th>2</th>\n",
       "      <td>2</td>\n",
       "      <td>-72.559150</td>\n",
       "      <td>265.6983</td>\n",
       "      <td>60.34943</td>\n",
       "      <td>-45.433220</td>\n",
       "      <td>116.775100</td>\n",
       "      <td>46.646560</td>\n",
       "      <td>1.264179</td>\n",
       "      <td>0.724846</td>\n",
       "      <td>1.367457</td>\n",
       "      <td>...</td>\n",
       "      <td>-0.278792</td>\n",
       "      <td>48.15030</td>\n",
       "      <td>204.5182</td>\n",
       "      <td>86.35149</td>\n",
       "      <td>204.6231</td>\n",
       "      <td>45.35921</td>\n",
       "      <td>236.8544</td>\n",
       "      <td>0.0</td>\n",
       "      <td>0.281134</td>\n",
       "      <td>0.0</td>\n",
       "    </tr>\n",
       "    <tr>\n",
       "      <th>3</th>\n",
       "      <td>2</td>\n",
       "      <td>-105.172300</td>\n",
       "      <td>259.9881</td>\n",
       "      <td>70.22928</td>\n",
       "      <td>-148.247100</td>\n",
       "      <td>-52.924670</td>\n",
       "      <td>8.030543</td>\n",
       "      <td>1.077289</td>\n",
       "      <td>0.467853</td>\n",
       "      <td>1.307123</td>\n",
       "      <td>...</td>\n",
       "      <td>-0.279768</td>\n",
       "      <td>48.64175</td>\n",
       "      <td>203.9989</td>\n",
       "      <td>86.16056</td>\n",
       "      <td>204.9939</td>\n",
       "      <td>44.18692</td>\n",
       "      <td>236.0927</td>\n",
       "      <td>0.0</td>\n",
       "      <td>0.277691</td>\n",
       "      <td>0.0</td>\n",
       "    </tr>\n",
       "    <tr>\n",
       "      <th>4</th>\n",
       "      <td>2</td>\n",
       "      <td>-166.400500</td>\n",
       "      <td>254.0034</td>\n",
       "      <td>80.76679</td>\n",
       "      <td>-277.553000</td>\n",
       "      <td>-98.287850</td>\n",
       "      <td>1.201995</td>\n",
       "      <td>1.120602</td>\n",
       "      <td>0.245951</td>\n",
       "      <td>1.447223</td>\n",
       "      <td>...</td>\n",
       "      <td>-0.278629</td>\n",
       "      <td>48.93135</td>\n",
       "      <td>203.3777</td>\n",
       "      <td>85.59017</td>\n",
       "      <td>204.5952</td>\n",
       "      <td>42.68003</td>\n",
       "      <td>235.2896</td>\n",
       "      <td>0.0</td>\n",
       "      <td>0.283008</td>\n",
       "      <td>0.0</td>\n",
       "    </tr>\n",
       "    <tr>\n",
       "      <th>...</th>\n",
       "      <td>...</td>\n",
       "      <td>...</td>\n",
       "      <td>...</td>\n",
       "      <td>...</td>\n",
       "      <td>...</td>\n",
       "      <td>...</td>\n",
       "      <td>...</td>\n",
       "      <td>...</td>\n",
       "      <td>...</td>\n",
       "      <td>...</td>\n",
       "      <td>...</td>\n",
       "      <td>...</td>\n",
       "      <td>...</td>\n",
       "      <td>...</td>\n",
       "      <td>...</td>\n",
       "      <td>...</td>\n",
       "      <td>...</td>\n",
       "      <td>...</td>\n",
       "      <td>...</td>\n",
       "      <td>...</td>\n",
       "      <td>...</td>\n",
       "    </tr>\n",
       "    <tr>\n",
       "      <th>990</th>\n",
       "      <td>2</td>\n",
       "      <td>-79.744590</td>\n",
       "      <td>287.6227</td>\n",
       "      <td>51.88764</td>\n",
       "      <td>-76.990880</td>\n",
       "      <td>83.765250</td>\n",
       "      <td>113.926100</td>\n",
       "      <td>1.345698</td>\n",
       "      <td>0.651067</td>\n",
       "      <td>1.401338</td>\n",
       "      <td>...</td>\n",
       "      <td>-1.309565</td>\n",
       "      <td>205.36990</td>\n",
       "      <td>211.2587</td>\n",
       "      <td>93.60893</td>\n",
       "      <td>385.4841</td>\n",
       "      <td>22.77898</td>\n",
       "      <td>148.6449</td>\n",
       "      <td>0.0</td>\n",
       "      <td>0.000000</td>\n",
       "      <td>0.0</td>\n",
       "    </tr>\n",
       "    <tr>\n",
       "      <th>991</th>\n",
       "      <td>2</td>\n",
       "      <td>-103.905500</td>\n",
       "      <td>273.6307</td>\n",
       "      <td>93.34784</td>\n",
       "      <td>116.087800</td>\n",
       "      <td>49.356580</td>\n",
       "      <td>6.628703</td>\n",
       "      <td>1.594151</td>\n",
       "      <td>1.120453</td>\n",
       "      <td>1.619684</td>\n",
       "      <td>...</td>\n",
       "      <td>-1.467832</td>\n",
       "      <td>149.68450</td>\n",
       "      <td>262.8933</td>\n",
       "      <td>108.95630</td>\n",
       "      <td>345.5569</td>\n",
       "      <td>83.68109</td>\n",
       "      <td>130.0997</td>\n",
       "      <td>0.0</td>\n",
       "      <td>0.000000</td>\n",
       "      <td>0.0</td>\n",
       "    </tr>\n",
       "    <tr>\n",
       "      <th>992</th>\n",
       "      <td>2</td>\n",
       "      <td>-82.822300</td>\n",
       "      <td>371.1977</td>\n",
       "      <td>85.21200</td>\n",
       "      <td>-1.740111</td>\n",
       "      <td>135.297400</td>\n",
       "      <td>18.307490</td>\n",
       "      <td>1.641038</td>\n",
       "      <td>1.048307</td>\n",
       "      <td>1.694769</td>\n",
       "      <td>...</td>\n",
       "      <td>-1.432272</td>\n",
       "      <td>165.30870</td>\n",
       "      <td>310.1812</td>\n",
       "      <td>115.94400</td>\n",
       "      <td>354.7191</td>\n",
       "      <td>126.01520</td>\n",
       "      <td>149.6580</td>\n",
       "      <td>0.0</td>\n",
       "      <td>0.000000</td>\n",
       "      <td>0.0</td>\n",
       "    </tr>\n",
       "    <tr>\n",
       "      <th>993</th>\n",
       "      <td>2</td>\n",
       "      <td>-96.825070</td>\n",
       "      <td>198.9208</td>\n",
       "      <td>57.07881</td>\n",
       "      <td>-148.267000</td>\n",
       "      <td>-110.123700</td>\n",
       "      <td>-140.804000</td>\n",
       "      <td>1.436554</td>\n",
       "      <td>0.612214</td>\n",
       "      <td>1.478043</td>\n",
       "      <td>...</td>\n",
       "      <td>-1.361387</td>\n",
       "      <td>218.69510</td>\n",
       "      <td>147.8894</td>\n",
       "      <td>87.79861</td>\n",
       "      <td>401.9055</td>\n",
       "      <td>-16.96668</td>\n",
       "      <td>188.2594</td>\n",
       "      <td>0.0</td>\n",
       "      <td>0.515762</td>\n",
       "      <td>0.0</td>\n",
       "    </tr>\n",
       "    <tr>\n",
       "      <th>994</th>\n",
       "      <td>2</td>\n",
       "      <td>-102.643500</td>\n",
       "      <td>267.5888</td>\n",
       "      <td>64.91779</td>\n",
       "      <td>37.085420</td>\n",
       "      <td>208.864300</td>\n",
       "      <td>46.925310</td>\n",
       "      <td>1.576779</td>\n",
       "      <td>0.831014</td>\n",
       "      <td>1.577358</td>\n",
       "      <td>...</td>\n",
       "      <td>-1.474686</td>\n",
       "      <td>159.09910</td>\n",
       "      <td>217.4314</td>\n",
       "      <td>100.38120</td>\n",
       "      <td>367.2000</td>\n",
       "      <td>54.38556</td>\n",
       "      <td>128.0224</td>\n",
       "      <td>0.0</td>\n",
       "      <td>0.000000</td>\n",
       "      <td>0.0</td>\n",
       "    </tr>\n",
       "  </tbody>\n",
       "</table>\n",
       "<p>1513 rows × 39 columns</p>\n",
       "</div>"
      ],
      "text/plain": [
       "      Hand Type_x   Position X_x   Position Y_x   Position Z_x   Velocity X_x  \\\n",
       "0               2      40.419110       194.2201       21.29477     -32.302420   \n",
       "1               2      -3.151465       230.1641       30.89721    -200.725800   \n",
       "2               2     -72.559150       265.6983       60.34943     -45.433220   \n",
       "3               2    -105.172300       259.9881       70.22928    -148.247100   \n",
       "4               2    -166.400500       254.0034       80.76679    -277.553000   \n",
       "..            ...            ...            ...            ...            ...   \n",
       "990             2     -79.744590       287.6227       51.88764     -76.990880   \n",
       "991             2    -103.905500       273.6307       93.34784     116.087800   \n",
       "992             2     -82.822300       371.1977       85.21200      -1.740111   \n",
       "993             2     -96.825070       198.9208       57.07881    -148.267000   \n",
       "994             2    -102.643500       267.5888       64.91779      37.085420   \n",
       "\n",
       "      Velocity Y_x   Velocity Z_x   Pitch_x    Roll_x     Yaw_x  ...  \\\n",
       "0         0.189444     -54.704640  0.698933 -2.968176  1.246851  ...   \n",
       "1       304.557400      85.467500  0.973467 -2.351039  0.904124  ...   \n",
       "2       116.775100      46.646560  1.264179  0.724846  1.367457  ...   \n",
       "3       -52.924670       8.030543  1.077289  0.467853  1.307123  ...   \n",
       "4       -98.287850       1.201995  1.120602  0.245951  1.447223  ...   \n",
       "..             ...            ...       ...       ...       ...  ...   \n",
       "990      83.765250     113.926100  1.345698  0.651067  1.401338  ...   \n",
       "991      49.356580       6.628703  1.594151  1.120453  1.619684  ...   \n",
       "992     135.297400      18.307490  1.641038  1.048307  1.694769  ...   \n",
       "993    -110.123700    -140.804000  1.436554  0.612214  1.478043  ...   \n",
       "994     208.864300      46.925310  1.576779  0.831014  1.577358  ...   \n",
       "\n",
       "        Yaw_y   Wrist Pos X_y   Wrist Pos Y_y   Wrist Pos Z_y   Elbow pos X_y  \\\n",
       "0   -0.277800        46.88831        207.3548        86.23589        203.8337   \n",
       "1   -0.277763        47.54861        205.6568        86.42250        203.9553   \n",
       "2   -0.278792        48.15030        204.5182        86.35149        204.6231   \n",
       "3   -0.279768        48.64175        203.9989        86.16056        204.9939   \n",
       "4   -0.278629        48.93135        203.3777        85.59017        204.5952   \n",
       "..        ...             ...             ...             ...             ...   \n",
       "990 -1.309565       205.36990        211.2587        93.60893        385.4841   \n",
       "991 -1.467832       149.68450        262.8933       108.95630        345.5569   \n",
       "992 -1.432272       165.30870        310.1812       115.94400        354.7191   \n",
       "993 -1.361387       218.69510        147.8894        87.79861        401.9055   \n",
       "994 -1.474686       159.09910        217.4314       100.38120        367.2000   \n",
       "\n",
       "      Elbow Pos Y_y   Elbow Pos Z_y   Grab Strenth_y   Grab Angle_y  \\\n",
       "0          49.33507        237.4553              0.0       0.206389   \n",
       "1          47.88272        238.4482              0.0       0.243050   \n",
       "2          45.35921        236.8544              0.0       0.281134   \n",
       "3          44.18692        236.0927              0.0       0.277691   \n",
       "4          42.68003        235.2896              0.0       0.283008   \n",
       "..              ...             ...              ...            ...   \n",
       "990        22.77898        148.6449              0.0       0.000000   \n",
       "991        83.68109        130.0997              0.0       0.000000   \n",
       "992       126.01520        149.6580              0.0       0.000000   \n",
       "993       -16.96668        188.2594              0.0       0.515762   \n",
       "994        54.38556        128.0224              0.0       0.000000   \n",
       "\n",
       "      Pinch Strength_y  \n",
       "0                  0.0  \n",
       "1                  0.0  \n",
       "2                  0.0  \n",
       "3                  0.0  \n",
       "4                  0.0  \n",
       "..                 ...  \n",
       "990                0.0  \n",
       "991                0.0  \n",
       "992                0.0  \n",
       "993                0.0  \n",
       "994                0.0  \n",
       "\n",
       "[1513 rows x 39 columns]"
      ]
     },
     "execution_count": 1097,
     "metadata": {},
     "output_type": "execute_result"
    }
   ],
   "source": [
    "df_test.drop(['Time',' Frame ID',' # hands'],axis=1)"
   ]
  },
  {
   "cell_type": "code",
   "execution_count": 1098,
   "metadata": {},
   "outputs": [],
   "source": [
    "def result10000(model):\n",
    "    model.fit(X_train_reduced, y_train)\n",
    "    print(round(model.score(X_reduced_tes,y_tests)*100,4),\"%\")"
   ]
  },
  {
   "cell_type": "code",
   "execution_count": 1106,
   "metadata": {},
   "outputs": [
    {
     "name": "stdout",
     "output_type": "stream",
     "text": [
      "88.037 %\n"
     ]
    }
   ],
   "source": [
    "knn = KNeighborsClassifier(n_neighbors = 10,algorithm='auto')\n",
    "result10000(knn)"
   ]
  },
  {
   "cell_type": "code",
   "execution_count": 1100,
   "metadata": {},
   "outputs": [
    {
     "name": "stdout",
     "output_type": "stream",
     "text": [
      "77.7925 %\n"
     ]
    }
   ],
   "source": [
    "xgb = XGBClassifier(eval_metric='mlogloss', learning_rate = 0.5, n_estimators= 240)\n",
    "result10000(xgb)"
   ]
  },
  {
   "cell_type": "code",
   "execution_count": 1101,
   "metadata": {},
   "outputs": [
    {
     "name": "stdout",
     "output_type": "stream",
     "text": [
      "85.6576 %\n"
     ]
    }
   ],
   "source": [
    "stacking=StackingClassifier([\n",
    "        ('rf', RandomForestClassifier(max_depth=20,n_estimators= 225)),    \n",
    "        ('knn', KNeighborsClassifier(n_neighbors=10,algorithm='auto'),\n",
    "        ('xgb', XGBClassifier(eval_metric='mlogloss', learning_rate=0.5, n_estimators=240))\n",
    "        )])\n",
    "result10000(stacking)"
   ]
  },
  {
   "cell_type": "markdown",
   "metadata": {},
   "source": [
    "## Final result: the best result is knn with 88.03%, after dimensionality reduction to 15 using pca"
   ]
  },
  {
   "cell_type": "code",
   "execution_count": null,
   "metadata": {},
   "outputs": [],
   "source": []
  }
 ],
 "metadata": {
  "kernelspec": {
   "display_name": "Python 3",
   "language": "python",
   "name": "python3"
  },
  "language_info": {
   "codemirror_mode": {
    "name": "ipython",
    "version": 3
   },
   "file_extension": ".py",
   "mimetype": "text/x-python",
   "name": "python",
   "nbconvert_exporter": "python",
   "pygments_lexer": "ipython3",
   "version": "3.8.3"
  }
 },
 "nbformat": 4,
 "nbformat_minor": 4
}
