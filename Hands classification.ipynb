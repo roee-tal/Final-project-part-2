{
 "cells": [
  {
   "cell_type": "markdown",
   "metadata": {},
   "source": [
    "## Hands classification"
   ]
  },
  {
   "cell_type": "markdown",
   "metadata": {},
   "source": [
    "* In this notebook there are recordings of 3 hands movement situations.\n",
    "* i will try to classify them into those situations acording to their position, velocity and more.\n",
    "* The situations are:\n",
    "    * Spontaneous- two people moving freely their hands while sitting together.\n",
    "    * synchronous- two people moving their hands while sitting together, trying to be synchronized.\n",
    "    * Alone- one person moving freely his hand.\n"
   ]
  },
  {
   "cell_type": "markdown",
   "metadata": {},
   "source": [
    "### Import libraries"
   ]
  },
  {
   "cell_type": "code",
   "execution_count": 875,
   "metadata": {},
   "outputs": [],
   "source": [
    "import numpy as np\n",
    "import pandas as pd\n",
    "import glob\n",
    "import matplotlib.pyplot as plt \n",
    "%matplotlib inline\n",
    "import matplotlib.image as mpimg\n",
    "import seaborn as sns\n",
    "from mpl_toolkits.mplot3d import Axes3D\n",
    "from pandas import Series\n",
    "# models part\n",
    "from sklearn.preprocessing import StandardScaler\n",
    "from sklearn.decomposition import PCA   \n",
    "from sklearn.pipeline import Pipeline\n",
    "from sklearn.model_selection import train_test_split\n",
    "from sklearn.neighbors import KNeighborsClassifier\n",
    "from sklearn.linear_model import LogisticRegression\n",
    "from sklearn.ensemble import RandomForestClassifier\n",
    "from sklearn.ensemble import VotingClassifier\n",
    "from sklearn.model_selection import cross_val_score\n",
    "from sklearn.model_selection import GridSearchCV\n",
    "from sklearn.ensemble import StackingClassifier\n",
    "from xgboost import XGBClassifier\n",
    "import xgboost\n",
    "import xgboost as xgb\n",
    "from sklearn import metrics\n",
    "# warnings\n",
    "import warnings\n",
    "warnings.filterwarnings('ignore')\n",
    "import os\n",
    "import math"
   ]
  },
  {
   "cell_type": "markdown",
   "metadata": {},
   "source": [
    "### The data preparation takes a lot of steps, so i decided to build function with help functions inside to prepar the data, and i explaind every step."
   ]
  },
  {
   "cell_type": "code",
   "execution_count": 876,
   "metadata": {},
   "outputs": [],
   "source": [
    "# Import the data and organize it in 3 lists:spontan, sync, alone\n",
    "def build(file):\n",
    "    paricipants=file\n",
    "    spon_list = []\n",
    "    sync_list = []\n",
    "    alone_list = []\n",
    "    for i, participant in enumerate(paricipants):\n",
    "        participants_files = glob.glob(participant + \"/*.csv\") \n",
    "        for file in participants_files:\n",
    "            temp=drop_7_sec(file)\n",
    "#             temp = pd.read_csv(file)\n",
    "#             time_to_drop=math.ceil(temp[\"Time\"][0])+7\n",
    "#             temp=temp[temp[\"Time\"]>time_to_drop]\n",
    "            if file.endswith('Spontan.csv'):\n",
    "                spon= temp\n",
    "                spon_list.append(spon)\n",
    "            elif file.endswith('Sync.csv'):\n",
    "                sync= temp\n",
    "                sync_list.append(sync)\n",
    "            elif file.endswith('Alone.csv'):\n",
    "                alone= temp\n",
    "                alone_list.append(alone)\n",
    "# concat the recordings according to their list, and create data frames of the lists\n",
    "    df_spon = pd.concat(spon_list, axis=0, ignore_index=True)\n",
    "    df_sync = pd.concat(sync_list, axis=0, ignore_index=True)\n",
    "    df_alone = pd.concat(alone_list, axis=0, ignore_index=True)\n",
    "# Create labels in every df    \n",
    "    df_spon,df_sync,df_alone=la(df_spon,df_sync,df_alone)\n",
    "# remove first 7 seconds from each recording    \n",
    "#     df_spon,df_sync,df_alone=sec(df_spon,df_sync,df_alone)\n",
    "# now i took care of 2 hands situation and after in 1 hand situation: first, concat spon and sync\n",
    "    df_sposyn=con_sy_sp(df_spon,df_sync)\n",
    "# dropp all the rows with feature 'hands'=1     \n",
    "    df_sposyn=drop_hand(df_sposyn)\n",
    "# split the data according to type of hand and merge it so every frame will be in one row and diminish by taking every 20 frame\n",
    "    df_sposyn=right_left_comb(df_sposyn)\n",
    "# one hand situation: merge alone and hand right so every frame in the alone data will have pair from the right hand data\n",
    "    df_hr=pd.read_csv(\"C:/Users/97254/.conda/Handright.csv\")\n",
    "    df_alone= df_alone[df_alone.index % 25 == 0].reset_index(drop=True)\n",
    "    df1=pd.merge(df_alone, df_hr,on=['Time',' Frame ID',' # hands'],left_index=True, right_index=True).reset_index(drop=True)\n",
    "# concat the 2 data frames into one    \n",
    "    df=pd.concat([df1,df_sposyn])\n",
    "# change 'hand type' to numeric value    \n",
    "    df[\" Hand Type_x\"]=Series([1 if i==\"right\" else 2 for i in df[\" Hand Type_x\"]])\n",
    "    df[\" Hand Type_y\"]=Series([1 if i==\"right\" else 2 for i in df[\" Hand Type_y\"]])\n",
    "    \n",
    "    return df"
   ]
  },
  {
   "cell_type": "markdown",
   "metadata": {},
   "source": [
    "#### Create training set"
   ]
  },
  {
   "cell_type": "code",
   "execution_count": 877,
   "metadata": {},
   "outputs": [
    {
     "data": {
      "text/html": [
       "<div>\n",
       "<style scoped>\n",
       "    .dataframe tbody tr th:only-of-type {\n",
       "        vertical-align: middle;\n",
       "    }\n",
       "\n",
       "    .dataframe tbody tr th {\n",
       "        vertical-align: top;\n",
       "    }\n",
       "\n",
       "    .dataframe thead th {\n",
       "        text-align: right;\n",
       "    }\n",
       "</style>\n",
       "<table border=\"1\" class=\"dataframe\">\n",
       "  <thead>\n",
       "    <tr style=\"text-align: right;\">\n",
       "      <th></th>\n",
       "      <th>Time</th>\n",
       "      <th>Frame ID</th>\n",
       "      <th>Hand Type_x</th>\n",
       "      <th># hands</th>\n",
       "      <th>Position X_x</th>\n",
       "      <th>Position Y_x</th>\n",
       "      <th>Position Z_x</th>\n",
       "      <th>Velocity X_x</th>\n",
       "      <th>Velocity Y_x</th>\n",
       "      <th>Velocity Z_x</th>\n",
       "      <th>...</th>\n",
       "      <th>Yaw_y</th>\n",
       "      <th>Wrist Pos X_y</th>\n",
       "      <th>Wrist Pos Y_y</th>\n",
       "      <th>Wrist Pos Z_y</th>\n",
       "      <th>Elbow pos X_y</th>\n",
       "      <th>Elbow Pos Y_y</th>\n",
       "      <th>Elbow Pos Z_y</th>\n",
       "      <th>Grab Strenth_y</th>\n",
       "      <th>Grab Angle_y</th>\n",
       "      <th>Pinch Strength_y</th>\n",
       "    </tr>\n",
       "  </thead>\n",
       "  <tbody>\n",
       "    <tr>\n",
       "      <th>0</th>\n",
       "      <td>526.0007</td>\n",
       "      <td>150449</td>\n",
       "      <td>2</td>\n",
       "      <td>1</td>\n",
       "      <td>-46.60518</td>\n",
       "      <td>178.0750</td>\n",
       "      <td>-18.757020</td>\n",
       "      <td>5.439669</td>\n",
       "      <td>96.98898</td>\n",
       "      <td>-12.102810</td>\n",
       "      <td>...</td>\n",
       "      <td>-0.277800</td>\n",
       "      <td>46.88831</td>\n",
       "      <td>207.3548</td>\n",
       "      <td>86.23589</td>\n",
       "      <td>203.8337</td>\n",
       "      <td>49.33507</td>\n",
       "      <td>237.45530</td>\n",
       "      <td>0.0</td>\n",
       "      <td>0.206389</td>\n",
       "      <td>0.0</td>\n",
       "    </tr>\n",
       "    <tr>\n",
       "      <th>1</th>\n",
       "      <td>526.4149</td>\n",
       "      <td>150497</td>\n",
       "      <td>2</td>\n",
       "      <td>1</td>\n",
       "      <td>-82.92123</td>\n",
       "      <td>206.1454</td>\n",
       "      <td>6.357242</td>\n",
       "      <td>73.156590</td>\n",
       "      <td>-164.49430</td>\n",
       "      <td>-71.277480</td>\n",
       "      <td>...</td>\n",
       "      <td>-0.277763</td>\n",
       "      <td>47.54861</td>\n",
       "      <td>205.6568</td>\n",
       "      <td>86.42250</td>\n",
       "      <td>203.9553</td>\n",
       "      <td>47.88272</td>\n",
       "      <td>238.44820</td>\n",
       "      <td>0.0</td>\n",
       "      <td>0.243050</td>\n",
       "      <td>0.0</td>\n",
       "    </tr>\n",
       "    <tr>\n",
       "      <th>2</th>\n",
       "      <td>526.8290</td>\n",
       "      <td>150545</td>\n",
       "      <td>2</td>\n",
       "      <td>1</td>\n",
       "      <td>-40.35501</td>\n",
       "      <td>199.8350</td>\n",
       "      <td>-10.003570</td>\n",
       "      <td>-14.615530</td>\n",
       "      <td>71.37882</td>\n",
       "      <td>-3.077893</td>\n",
       "      <td>...</td>\n",
       "      <td>-0.278792</td>\n",
       "      <td>48.15030</td>\n",
       "      <td>204.5182</td>\n",
       "      <td>86.35149</td>\n",
       "      <td>204.6231</td>\n",
       "      <td>45.35921</td>\n",
       "      <td>236.85440</td>\n",
       "      <td>0.0</td>\n",
       "      <td>0.281134</td>\n",
       "      <td>0.0</td>\n",
       "    </tr>\n",
       "    <tr>\n",
       "      <th>3</th>\n",
       "      <td>527.2432</td>\n",
       "      <td>150592</td>\n",
       "      <td>2</td>\n",
       "      <td>1</td>\n",
       "      <td>-103.88840</td>\n",
       "      <td>218.4056</td>\n",
       "      <td>48.730380</td>\n",
       "      <td>77.108100</td>\n",
       "      <td>-427.12250</td>\n",
       "      <td>62.248640</td>\n",
       "      <td>...</td>\n",
       "      <td>-0.279768</td>\n",
       "      <td>48.64175</td>\n",
       "      <td>203.9989</td>\n",
       "      <td>86.16056</td>\n",
       "      <td>204.9939</td>\n",
       "      <td>44.18692</td>\n",
       "      <td>236.09270</td>\n",
       "      <td>0.0</td>\n",
       "      <td>0.277691</td>\n",
       "      <td>0.0</td>\n",
       "    </tr>\n",
       "    <tr>\n",
       "      <th>4</th>\n",
       "      <td>527.6577</td>\n",
       "      <td>150640</td>\n",
       "      <td>2</td>\n",
       "      <td>1</td>\n",
       "      <td>-41.71663</td>\n",
       "      <td>161.0002</td>\n",
       "      <td>7.274406</td>\n",
       "      <td>62.083510</td>\n",
       "      <td>167.93760</td>\n",
       "      <td>64.759570</td>\n",
       "      <td>...</td>\n",
       "      <td>-0.278629</td>\n",
       "      <td>48.93135</td>\n",
       "      <td>203.3777</td>\n",
       "      <td>85.59017</td>\n",
       "      <td>204.5952</td>\n",
       "      <td>42.68003</td>\n",
       "      <td>235.28960</td>\n",
       "      <td>0.0</td>\n",
       "      <td>0.283008</td>\n",
       "      <td>0.0</td>\n",
       "    </tr>\n",
       "    <tr>\n",
       "      <th>...</th>\n",
       "      <td>...</td>\n",
       "      <td>...</td>\n",
       "      <td>...</td>\n",
       "      <td>...</td>\n",
       "      <td>...</td>\n",
       "      <td>...</td>\n",
       "      <td>...</td>\n",
       "      <td>...</td>\n",
       "      <td>...</td>\n",
       "      <td>...</td>\n",
       "      <td>...</td>\n",
       "      <td>...</td>\n",
       "      <td>...</td>\n",
       "      <td>...</td>\n",
       "      <td>...</td>\n",
       "      <td>...</td>\n",
       "      <td>...</td>\n",
       "      <td>...</td>\n",
       "      <td>...</td>\n",
       "      <td>...</td>\n",
       "      <td>...</td>\n",
       "    </tr>\n",
       "    <tr>\n",
       "      <th>2676</th>\n",
       "      <td>852.4635</td>\n",
       "      <td>67064</td>\n",
       "      <td>2</td>\n",
       "      <td>2</td>\n",
       "      <td>-83.90349</td>\n",
       "      <td>205.9792</td>\n",
       "      <td>-15.932530</td>\n",
       "      <td>14.235290</td>\n",
       "      <td>-26.48535</td>\n",
       "      <td>-12.246520</td>\n",
       "      <td>...</td>\n",
       "      <td>-2.168338</td>\n",
       "      <td>123.04620</td>\n",
       "      <td>133.6873</td>\n",
       "      <td>31.53965</td>\n",
       "      <td>289.0648</td>\n",
       "      <td>-64.91495</td>\n",
       "      <td>30.21533</td>\n",
       "      <td>0.0</td>\n",
       "      <td>0.000000</td>\n",
       "      <td>0.0</td>\n",
       "    </tr>\n",
       "    <tr>\n",
       "      <th>2677</th>\n",
       "      <td>853.2994</td>\n",
       "      <td>67116</td>\n",
       "      <td>2</td>\n",
       "      <td>2</td>\n",
       "      <td>-58.35790</td>\n",
       "      <td>159.9274</td>\n",
       "      <td>-15.694900</td>\n",
       "      <td>43.164900</td>\n",
       "      <td>-28.28878</td>\n",
       "      <td>-7.025205</td>\n",
       "      <td>...</td>\n",
       "      <td>-0.406183</td>\n",
       "      <td>120.45850</td>\n",
       "      <td>133.9525</td>\n",
       "      <td>45.90549</td>\n",
       "      <td>296.4559</td>\n",
       "      <td>-5.98533</td>\n",
       "      <td>174.15970</td>\n",
       "      <td>0.0</td>\n",
       "      <td>0.000000</td>\n",
       "      <td>0.0</td>\n",
       "    </tr>\n",
       "    <tr>\n",
       "      <th>2678</th>\n",
       "      <td>854.1303</td>\n",
       "      <td>67169</td>\n",
       "      <td>2</td>\n",
       "      <td>2</td>\n",
       "      <td>-68.45061</td>\n",
       "      <td>169.1186</td>\n",
       "      <td>-12.996980</td>\n",
       "      <td>25.174220</td>\n",
       "      <td>136.32030</td>\n",
       "      <td>-12.358740</td>\n",
       "      <td>...</td>\n",
       "      <td>-0.398261</td>\n",
       "      <td>125.87150</td>\n",
       "      <td>142.2466</td>\n",
       "      <td>54.52624</td>\n",
       "      <td>304.9686</td>\n",
       "      <td>-14.97589</td>\n",
       "      <td>155.58140</td>\n",
       "      <td>0.0</td>\n",
       "      <td>0.000000</td>\n",
       "      <td>0.0</td>\n",
       "    </tr>\n",
       "    <tr>\n",
       "      <th>2679</th>\n",
       "      <td>854.9633</td>\n",
       "      <td>67224</td>\n",
       "      <td>2</td>\n",
       "      <td>2</td>\n",
       "      <td>-77.49830</td>\n",
       "      <td>203.5687</td>\n",
       "      <td>0.131859</td>\n",
       "      <td>-10.814190</td>\n",
       "      <td>-18.57390</td>\n",
       "      <td>-30.342760</td>\n",
       "      <td>...</td>\n",
       "      <td>-1.956911</td>\n",
       "      <td>124.23340</td>\n",
       "      <td>139.1985</td>\n",
       "      <td>49.55933</td>\n",
       "      <td>302.6661</td>\n",
       "      <td>-48.31174</td>\n",
       "      <td>46.65322</td>\n",
       "      <td>0.0</td>\n",
       "      <td>0.000000</td>\n",
       "      <td>0.0</td>\n",
       "    </tr>\n",
       "    <tr>\n",
       "      <th>2680</th>\n",
       "      <td>855.7963</td>\n",
       "      <td>67280</td>\n",
       "      <td>2</td>\n",
       "      <td>2</td>\n",
       "      <td>-67.80653</td>\n",
       "      <td>140.8804</td>\n",
       "      <td>-29.613030</td>\n",
       "      <td>-15.119600</td>\n",
       "      <td>31.18960</td>\n",
       "      <td>-13.895900</td>\n",
       "      <td>...</td>\n",
       "      <td>-0.509072</td>\n",
       "      <td>131.16330</td>\n",
       "      <td>151.0646</td>\n",
       "      <td>58.53401</td>\n",
       "      <td>342.6050</td>\n",
       "      <td>53.94796</td>\n",
       "      <td>171.96940</td>\n",
       "      <td>0.0</td>\n",
       "      <td>0.000000</td>\n",
       "      <td>0.0</td>\n",
       "    </tr>\n",
       "  </tbody>\n",
       "</table>\n",
       "<p>4074 rows × 42 columns</p>\n",
       "</div>"
      ],
      "text/plain": [
       "          Time   Frame ID   Hand Type_x   # hands   Position X_x  \\\n",
       "0     526.0007     150449             2         1      -46.60518   \n",
       "1     526.4149     150497             2         1      -82.92123   \n",
       "2     526.8290     150545             2         1      -40.35501   \n",
       "3     527.2432     150592             2         1     -103.88840   \n",
       "4     527.6577     150640             2         1      -41.71663   \n",
       "...        ...        ...           ...       ...            ...   \n",
       "2676  852.4635      67064             2         2      -83.90349   \n",
       "2677  853.2994      67116             2         2      -58.35790   \n",
       "2678  854.1303      67169             2         2      -68.45061   \n",
       "2679  854.9633      67224             2         2      -77.49830   \n",
       "2680  855.7963      67280             2         2      -67.80653   \n",
       "\n",
       "       Position Y_x   Position Z_x   Velocity X_x   Velocity Y_x  \\\n",
       "0          178.0750     -18.757020       5.439669       96.98898   \n",
       "1          206.1454       6.357242      73.156590     -164.49430   \n",
       "2          199.8350     -10.003570     -14.615530       71.37882   \n",
       "3          218.4056      48.730380      77.108100     -427.12250   \n",
       "4          161.0002       7.274406      62.083510      167.93760   \n",
       "...             ...            ...            ...            ...   \n",
       "2676       205.9792     -15.932530      14.235290      -26.48535   \n",
       "2677       159.9274     -15.694900      43.164900      -28.28878   \n",
       "2678       169.1186     -12.996980      25.174220      136.32030   \n",
       "2679       203.5687       0.131859     -10.814190      -18.57390   \n",
       "2680       140.8804     -29.613030     -15.119600       31.18960   \n",
       "\n",
       "       Velocity Z_x  ...     Yaw_y   Wrist Pos X_y   Wrist Pos Y_y  \\\n",
       "0        -12.102810  ... -0.277800        46.88831        207.3548   \n",
       "1        -71.277480  ... -0.277763        47.54861        205.6568   \n",
       "2         -3.077893  ... -0.278792        48.15030        204.5182   \n",
       "3         62.248640  ... -0.279768        48.64175        203.9989   \n",
       "4         64.759570  ... -0.278629        48.93135        203.3777   \n",
       "...             ...  ...       ...             ...             ...   \n",
       "2676     -12.246520  ... -2.168338       123.04620        133.6873   \n",
       "2677      -7.025205  ... -0.406183       120.45850        133.9525   \n",
       "2678     -12.358740  ... -0.398261       125.87150        142.2466   \n",
       "2679     -30.342760  ... -1.956911       124.23340        139.1985   \n",
       "2680     -13.895900  ... -0.509072       131.16330        151.0646   \n",
       "\n",
       "       Wrist Pos Z_y   Elbow pos X_y   Elbow Pos Y_y   Elbow Pos Z_y  \\\n",
       "0           86.23589        203.8337        49.33507       237.45530   \n",
       "1           86.42250        203.9553        47.88272       238.44820   \n",
       "2           86.35149        204.6231        45.35921       236.85440   \n",
       "3           86.16056        204.9939        44.18692       236.09270   \n",
       "4           85.59017        204.5952        42.68003       235.28960   \n",
       "...              ...             ...             ...             ...   \n",
       "2676        31.53965        289.0648       -64.91495        30.21533   \n",
       "2677        45.90549        296.4559        -5.98533       174.15970   \n",
       "2678        54.52624        304.9686       -14.97589       155.58140   \n",
       "2679        49.55933        302.6661       -48.31174        46.65322   \n",
       "2680        58.53401        342.6050        53.94796       171.96940   \n",
       "\n",
       "       Grab Strenth_y   Grab Angle_y   Pinch Strength_y  \n",
       "0                 0.0       0.206389                0.0  \n",
       "1                 0.0       0.243050                0.0  \n",
       "2                 0.0       0.281134                0.0  \n",
       "3                 0.0       0.277691                0.0  \n",
       "4                 0.0       0.283008                0.0  \n",
       "...               ...            ...                ...  \n",
       "2676              0.0       0.000000                0.0  \n",
       "2677              0.0       0.000000                0.0  \n",
       "2678              0.0       0.000000                0.0  \n",
       "2679              0.0       0.000000                0.0  \n",
       "2680              0.0       0.000000                0.0  \n",
       "\n",
       "[4074 rows x 42 columns]"
      ]
     },
     "execution_count": 877,
     "metadata": {},
     "output_type": "execute_result"
    }
   ],
   "source": [
    "df=build(glob.glob(r'C:/Users/97254/.conda/Training/' + \"/*\"))   \n",
    "df"
   ]
  },
  {
   "cell_type": "code",
   "execution_count": 878,
   "metadata": {},
   "outputs": [
    {
     "data": {
      "text/plain": [
       "(4074, 42)"
      ]
     },
     "execution_count": 878,
     "metadata": {},
     "output_type": "execute_result"
    }
   ],
   "source": [
    "df.shape"
   ]
  },
  {
   "cell_type": "code",
   "execution_count": 879,
   "metadata": {},
   "outputs": [],
   "source": [
    "df_test=build(glob.glob(r'C:/Users/97254/.eclipse/Validation/' + \"/*\"))"
   ]
  },
  {
   "cell_type": "code",
   "execution_count": 880,
   "metadata": {},
   "outputs": [],
   "source": [
    "def drop_7_sec(path):\n",
    "    df = pd.read_csv(path)\n",
    "    time_to_drop=math.ceil(df[\"Time\"][0])+7\n",
    "    df=df[df[\"Time\"]>time_to_drop]\n",
    "    return df"
   ]
  },
  {
   "cell_type": "markdown",
   "metadata": {},
   "source": [
    "### remove first 7 seconds from each recording   "
   ]
  },
  {
   "cell_type": "code",
   "execution_count": 881,
   "metadata": {},
   "outputs": [],
   "source": [
    "def sec(df_spon,df_sync,df_alone):\n",
    "    df_spon= (df_spon[df_spon[\"Time\"] > (df_spon[\"Time\"][0] + 7)])\n",
    "    df_sync= (df_sync[df_sync[\"Time\"] > (df_sync[\"Time\"][0] + 7)])\n",
    "    df_alone= (df_alone[df_alone[\"Time\"] > (df_alone[\"Time\"][0] + 7)])\n",
    "    return df_spon,df_sync,df_alone"
   ]
  },
  {
   "cell_type": "markdown",
   "metadata": {},
   "source": [
    "### Create labels in every df"
   ]
  },
  {
   "cell_type": "code",
   "execution_count": 882,
   "metadata": {},
   "outputs": [],
   "source": [
    "def la(df_spon,df_sync,df_alone):\n",
    "    df_spon['label']=0\n",
    "    df_sync['label']=1\n",
    "    df_alone['label']=2\n",
    "    return df_spon,df_sync,df_alone"
   ]
  },
  {
   "cell_type": "markdown",
   "metadata": {},
   "source": [
    "### now i took care of 2 hands situation: first, concat spon and sync and reset indexes (because i dropped first 7 seconds)"
   ]
  },
  {
   "cell_type": "code",
   "execution_count": 883,
   "metadata": {},
   "outputs": [],
   "source": [
    "def con_sy_sp(df_spon,df_sync):\n",
    "    df_sposyn= pd.concat([df_spon,df_sync])\n",
    "    df_sposyn.reset_index()\n",
    "    return df_sposyn"
   ]
  },
  {
   "cell_type": "markdown",
   "metadata": {},
   "source": [
    "###  drop all the rows with feature 'hands'=1: I checked with 'value_counts' if there are frames with only one hand and dropped them because we are in the dataframe of 2 hands situation"
   ]
  },
  {
   "cell_type": "code",
   "execution_count": 884,
   "metadata": {},
   "outputs": [],
   "source": [
    "def drop_hand(df_sposyn):\n",
    "    i=df_sposyn.loc[df_sposyn[' # hands']==1].index\n",
    "    df_sposyn=df_sposyn.drop(i)\n",
    "    return df_sposyn"
   ]
  },
  {
   "cell_type": "markdown",
   "metadata": {},
   "source": [
    "### Because every frame has 2 rows (right and left) i merged the frames to one row by split the data to two, according to 'hand type'. Then merge to one row so that only frames which have both hands will include (inner)."
   ]
  },
  {
   "cell_type": "markdown",
   "metadata": {},
   "source": [
    "### Second thing i did is to decrease data, because the frame's times is so closed(difference of about 0.015 beetween the frames) so the movement is neglectible. so i took every 25 frame(about 0.5 second difference) "
   ]
  },
  {
   "cell_type": "code",
   "execution_count": 885,
   "metadata": {},
   "outputs": [],
   "source": [
    "def right_left_comb(df_sposyn):    \n",
    "    df_sposyn_left=df_sposyn[df_sposyn[' Hand Type']=='left']\n",
    "    df_sposyn_right=df_sposyn[df_sposyn[' Hand Type']=='right']\n",
    "    df_sposyn=pd.merge(df_sposyn_left,df_sposyn_right,on=['Time',' Frame ID',' # hands','label'],how='inner')\n",
    "    df_sposyn=df_sposyn[df_sposyn.index % 25 == 0].reset_index(drop=True)\n",
    "    return df_sposyn"
   ]
  },
  {
   "cell_type": "code",
   "execution_count": 886,
   "metadata": {},
   "outputs": [
    {
     "data": {
      "text/plain": [
       "Text(0, 0.5, 'X pos left')"
      ]
     },
     "execution_count": 886,
     "metadata": {},
     "output_type": "execute_result"
    },
    {
     "data": {
      "image/png": "[encoded data removed]",
      "text/plain": [
       "<Figure size 432x288 with 1 Axes>"
      ]
     },
     "metadata": {
      "needs_background": "light"
     },
     "output_type": "display_data"
    }
   ],
   "source": [
    "sns.scatterplot(x=\" Position Z_y\", y=\" Position Z_x\", hue=\"label\", data=df)\n",
    "plt.xlabel('X pos right')\n",
    "plt.ylabel('X pos left')"
   ]
  },
  {
   "cell_type": "code",
   "execution_count": 887,
   "metadata": {},
   "outputs": [
    {
     "data": {
      "text/plain": [
       "Text(0.5, 0, 'Left Position Z')"
      ]
     },
     "execution_count": 887,
     "metadata": {},
     "output_type": "execute_result"
    },
    {
     "data": {
      "image/png": "[encoded data removed]",
      "text/plain": [
       "<Figure size 432x432 with 1 Axes>"
      ]
     },
     "metadata": {},
     "output_type": "display_data"
    },
    {
     "data": {
      "image/png": "[encoded data removed]",
      "text/plain": [
       "<Figure size 432x432 with 1 Axes>"
      ]
     },
     "metadata": {},
     "output_type": "display_data"
    }
   ],
   "source": [
    "sns.set_style(\"whitegrid\", {'axes.grid' : False})\n",
    "\n",
    "fig1 = plt.figure(figsize=(6,6))\n",
    "ax = Axes3D(fig1) \n",
    "x1 = df[' Position X_x']\n",
    "y1 = df[' Position Y_x']\n",
    "z1 = df[' Position Z_x']\n",
    "ax.scatter(x1, y1, z1, c=x1, marker='o')\n",
    "ax.set_xlabel('Right Position X')\n",
    "ax.set_ylabel('Right Position Y')\n",
    "ax.set_zlabel('Right Position Z')\n",
    "\n",
    "fig2 = plt.figure(figsize=(6,6))\n",
    "ax = Axes3D(fig2) \n",
    "x2 = df[' Position X_y']\n",
    "y2 = df[' Position Y_y']\n",
    "z2 = df[' Position Z_y']\n",
    "ax.scatter(x2, y2, z2, c=x2, marker='o')\n",
    "ax.set_xlabel('Left Position X')\n",
    "ax.set_ylabel('Left Position Y')\n",
    "ax.set_zlabel('Left Position Z')"
   ]
  },
  {
   "cell_type": "code",
   "execution_count": 888,
   "metadata": {},
   "outputs": [
    {
     "data": {
      "text/html": [
       "<div>\n",
       "<style scoped>\n",
       "    .dataframe tbody tr th:only-of-type {\n",
       "        vertical-align: middle;\n",
       "    }\n",
       "\n",
       "    .dataframe tbody tr th {\n",
       "        vertical-align: top;\n",
       "    }\n",
       "\n",
       "    .dataframe thead th {\n",
       "        text-align: right;\n",
       "    }\n",
       "</style>\n",
       "<table border=\"1\" class=\"dataframe\">\n",
       "  <thead>\n",
       "    <tr style=\"text-align: right;\">\n",
       "      <th></th>\n",
       "      <th>Hand Type_x</th>\n",
       "      <th>Position X_x</th>\n",
       "      <th>Position Y_x</th>\n",
       "      <th>Position Z_x</th>\n",
       "      <th>Velocity X_x</th>\n",
       "      <th>Velocity Y_x</th>\n",
       "      <th>Velocity Z_x</th>\n",
       "      <th>Pitch_x</th>\n",
       "      <th>Roll_x</th>\n",
       "      <th>Yaw_x</th>\n",
       "      <th>...</th>\n",
       "      <th>Yaw_y</th>\n",
       "      <th>Wrist Pos X_y</th>\n",
       "      <th>Wrist Pos Y_y</th>\n",
       "      <th>Wrist Pos Z_y</th>\n",
       "      <th>Elbow pos X_y</th>\n",
       "      <th>Elbow Pos Y_y</th>\n",
       "      <th>Elbow Pos Z_y</th>\n",
       "      <th>Grab Strenth_y</th>\n",
       "      <th>Grab Angle_y</th>\n",
       "      <th>Pinch Strength_y</th>\n",
       "    </tr>\n",
       "  </thead>\n",
       "  <tbody>\n",
       "    <tr>\n",
       "      <th>0</th>\n",
       "      <td>2</td>\n",
       "      <td>-46.60518</td>\n",
       "      <td>178.0750</td>\n",
       "      <td>-18.757020</td>\n",
       "      <td>5.439669</td>\n",
       "      <td>96.98898</td>\n",
       "      <td>-12.102810</td>\n",
       "      <td>0.670744</td>\n",
       "      <td>2.865586</td>\n",
       "      <td>1.276748</td>\n",
       "      <td>...</td>\n",
       "      <td>-0.277800</td>\n",
       "      <td>46.88831</td>\n",
       "      <td>207.3548</td>\n",
       "      <td>86.23589</td>\n",
       "      <td>203.8337</td>\n",
       "      <td>49.33507</td>\n",
       "      <td>237.45530</td>\n",
       "      <td>0.0</td>\n",
       "      <td>0.206389</td>\n",
       "      <td>0.0</td>\n",
       "    </tr>\n",
       "    <tr>\n",
       "      <th>1</th>\n",
       "      <td>2</td>\n",
       "      <td>-82.92123</td>\n",
       "      <td>206.1454</td>\n",
       "      <td>6.357242</td>\n",
       "      <td>73.156590</td>\n",
       "      <td>-164.49430</td>\n",
       "      <td>-71.277480</td>\n",
       "      <td>1.182864</td>\n",
       "      <td>-3.083286</td>\n",
       "      <td>1.358358</td>\n",
       "      <td>...</td>\n",
       "      <td>-0.277763</td>\n",
       "      <td>47.54861</td>\n",
       "      <td>205.6568</td>\n",
       "      <td>86.42250</td>\n",
       "      <td>203.9553</td>\n",
       "      <td>47.88272</td>\n",
       "      <td>238.44820</td>\n",
       "      <td>0.0</td>\n",
       "      <td>0.243050</td>\n",
       "      <td>0.0</td>\n",
       "    </tr>\n",
       "    <tr>\n",
       "      <th>2</th>\n",
       "      <td>2</td>\n",
       "      <td>-40.35501</td>\n",
       "      <td>199.8350</td>\n",
       "      <td>-10.003570</td>\n",
       "      <td>-14.615530</td>\n",
       "      <td>71.37882</td>\n",
       "      <td>-3.077893</td>\n",
       "      <td>0.895151</td>\n",
       "      <td>1.811641</td>\n",
       "      <td>1.050796</td>\n",
       "      <td>...</td>\n",
       "      <td>-0.278792</td>\n",
       "      <td>48.15030</td>\n",
       "      <td>204.5182</td>\n",
       "      <td>86.35149</td>\n",
       "      <td>204.6231</td>\n",
       "      <td>45.35921</td>\n",
       "      <td>236.85440</td>\n",
       "      <td>0.0</td>\n",
       "      <td>0.281134</td>\n",
       "      <td>0.0</td>\n",
       "    </tr>\n",
       "    <tr>\n",
       "      <th>3</th>\n",
       "      <td>2</td>\n",
       "      <td>-103.88840</td>\n",
       "      <td>218.4056</td>\n",
       "      <td>48.730380</td>\n",
       "      <td>77.108100</td>\n",
       "      <td>-427.12250</td>\n",
       "      <td>62.248640</td>\n",
       "      <td>1.170061</td>\n",
       "      <td>0.297046</td>\n",
       "      <td>1.454513</td>\n",
       "      <td>...</td>\n",
       "      <td>-0.279768</td>\n",
       "      <td>48.64175</td>\n",
       "      <td>203.9989</td>\n",
       "      <td>86.16056</td>\n",
       "      <td>204.9939</td>\n",
       "      <td>44.18692</td>\n",
       "      <td>236.09270</td>\n",
       "      <td>0.0</td>\n",
       "      <td>0.277691</td>\n",
       "      <td>0.0</td>\n",
       "    </tr>\n",
       "    <tr>\n",
       "      <th>4</th>\n",
       "      <td>2</td>\n",
       "      <td>-41.71663</td>\n",
       "      <td>161.0002</td>\n",
       "      <td>7.274406</td>\n",
       "      <td>62.083510</td>\n",
       "      <td>167.93760</td>\n",
       "      <td>64.759570</td>\n",
       "      <td>1.310517</td>\n",
       "      <td>0.409162</td>\n",
       "      <td>1.449638</td>\n",
       "      <td>...</td>\n",
       "      <td>-0.278629</td>\n",
       "      <td>48.93135</td>\n",
       "      <td>203.3777</td>\n",
       "      <td>85.59017</td>\n",
       "      <td>204.5952</td>\n",
       "      <td>42.68003</td>\n",
       "      <td>235.28960</td>\n",
       "      <td>0.0</td>\n",
       "      <td>0.283008</td>\n",
       "      <td>0.0</td>\n",
       "    </tr>\n",
       "    <tr>\n",
       "      <th>...</th>\n",
       "      <td>...</td>\n",
       "      <td>...</td>\n",
       "      <td>...</td>\n",
       "      <td>...</td>\n",
       "      <td>...</td>\n",
       "      <td>...</td>\n",
       "      <td>...</td>\n",
       "      <td>...</td>\n",
       "      <td>...</td>\n",
       "      <td>...</td>\n",
       "      <td>...</td>\n",
       "      <td>...</td>\n",
       "      <td>...</td>\n",
       "      <td>...</td>\n",
       "      <td>...</td>\n",
       "      <td>...</td>\n",
       "      <td>...</td>\n",
       "      <td>...</td>\n",
       "      <td>...</td>\n",
       "      <td>...</td>\n",
       "      <td>...</td>\n",
       "    </tr>\n",
       "    <tr>\n",
       "      <th>2676</th>\n",
       "      <td>2</td>\n",
       "      <td>-83.90349</td>\n",
       "      <td>205.9792</td>\n",
       "      <td>-15.932530</td>\n",
       "      <td>14.235290</td>\n",
       "      <td>-26.48535</td>\n",
       "      <td>-12.246520</td>\n",
       "      <td>1.336503</td>\n",
       "      <td>1.406869</td>\n",
       "      <td>0.769383</td>\n",
       "      <td>...</td>\n",
       "      <td>-2.168338</td>\n",
       "      <td>123.04620</td>\n",
       "      <td>133.6873</td>\n",
       "      <td>31.53965</td>\n",
       "      <td>289.0648</td>\n",
       "      <td>-64.91495</td>\n",
       "      <td>30.21533</td>\n",
       "      <td>0.0</td>\n",
       "      <td>0.000000</td>\n",
       "      <td>0.0</td>\n",
       "    </tr>\n",
       "    <tr>\n",
       "      <th>2677</th>\n",
       "      <td>2</td>\n",
       "      <td>-58.35790</td>\n",
       "      <td>159.9274</td>\n",
       "      <td>-15.694900</td>\n",
       "      <td>43.164900</td>\n",
       "      <td>-28.28878</td>\n",
       "      <td>-7.025205</td>\n",
       "      <td>0.703169</td>\n",
       "      <td>1.740336</td>\n",
       "      <td>0.606227</td>\n",
       "      <td>...</td>\n",
       "      <td>-0.406183</td>\n",
       "      <td>120.45850</td>\n",
       "      <td>133.9525</td>\n",
       "      <td>45.90549</td>\n",
       "      <td>296.4559</td>\n",
       "      <td>-5.98533</td>\n",
       "      <td>174.15970</td>\n",
       "      <td>0.0</td>\n",
       "      <td>0.000000</td>\n",
       "      <td>0.0</td>\n",
       "    </tr>\n",
       "    <tr>\n",
       "      <th>2678</th>\n",
       "      <td>2</td>\n",
       "      <td>-68.45061</td>\n",
       "      <td>169.1186</td>\n",
       "      <td>-12.996980</td>\n",
       "      <td>25.174220</td>\n",
       "      <td>136.32030</td>\n",
       "      <td>-12.358740</td>\n",
       "      <td>0.641901</td>\n",
       "      <td>1.781092</td>\n",
       "      <td>0.512229</td>\n",
       "      <td>...</td>\n",
       "      <td>-0.398261</td>\n",
       "      <td>125.87150</td>\n",
       "      <td>142.2466</td>\n",
       "      <td>54.52624</td>\n",
       "      <td>304.9686</td>\n",
       "      <td>-14.97589</td>\n",
       "      <td>155.58140</td>\n",
       "      <td>0.0</td>\n",
       "      <td>0.000000</td>\n",
       "      <td>0.0</td>\n",
       "    </tr>\n",
       "    <tr>\n",
       "      <th>2679</th>\n",
       "      <td>2</td>\n",
       "      <td>-77.49830</td>\n",
       "      <td>203.5687</td>\n",
       "      <td>0.131859</td>\n",
       "      <td>-10.814190</td>\n",
       "      <td>-18.57390</td>\n",
       "      <td>-30.342760</td>\n",
       "      <td>1.160698</td>\n",
       "      <td>1.446287</td>\n",
       "      <td>0.526926</td>\n",
       "      <td>...</td>\n",
       "      <td>-1.956911</td>\n",
       "      <td>124.23340</td>\n",
       "      <td>139.1985</td>\n",
       "      <td>49.55933</td>\n",
       "      <td>302.6661</td>\n",
       "      <td>-48.31174</td>\n",
       "      <td>46.65322</td>\n",
       "      <td>0.0</td>\n",
       "      <td>0.000000</td>\n",
       "      <td>0.0</td>\n",
       "    </tr>\n",
       "    <tr>\n",
       "      <th>2680</th>\n",
       "      <td>2</td>\n",
       "      <td>-67.80653</td>\n",
       "      <td>140.8804</td>\n",
       "      <td>-29.613030</td>\n",
       "      <td>-15.119600</td>\n",
       "      <td>31.18960</td>\n",
       "      <td>-13.895900</td>\n",
       "      <td>0.045157</td>\n",
       "      <td>2.282631</td>\n",
       "      <td>0.532713</td>\n",
       "      <td>...</td>\n",
       "      <td>-0.509072</td>\n",
       "      <td>131.16330</td>\n",
       "      <td>151.0646</td>\n",
       "      <td>58.53401</td>\n",
       "      <td>342.6050</td>\n",
       "      <td>53.94796</td>\n",
       "      <td>171.96940</td>\n",
       "      <td>0.0</td>\n",
       "      <td>0.000000</td>\n",
       "      <td>0.0</td>\n",
       "    </tr>\n",
       "  </tbody>\n",
       "</table>\n",
       "<p>4074 rows × 39 columns</p>\n",
       "</div>"
      ],
      "text/plain": [
       "       Hand Type_x   Position X_x   Position Y_x   Position Z_x  \\\n",
       "0                2      -46.60518       178.0750     -18.757020   \n",
       "1                2      -82.92123       206.1454       6.357242   \n",
       "2                2      -40.35501       199.8350     -10.003570   \n",
       "3                2     -103.88840       218.4056      48.730380   \n",
       "4                2      -41.71663       161.0002       7.274406   \n",
       "...            ...            ...            ...            ...   \n",
       "2676             2      -83.90349       205.9792     -15.932530   \n",
       "2677             2      -58.35790       159.9274     -15.694900   \n",
       "2678             2      -68.45061       169.1186     -12.996980   \n",
       "2679             2      -77.49830       203.5687       0.131859   \n",
       "2680             2      -67.80653       140.8804     -29.613030   \n",
       "\n",
       "       Velocity X_x   Velocity Y_x   Velocity Z_x   Pitch_x    Roll_x  \\\n",
       "0          5.439669       96.98898     -12.102810  0.670744  2.865586   \n",
       "1         73.156590     -164.49430     -71.277480  1.182864 -3.083286   \n",
       "2        -14.615530       71.37882      -3.077893  0.895151  1.811641   \n",
       "3         77.108100     -427.12250      62.248640  1.170061  0.297046   \n",
       "4         62.083510      167.93760      64.759570  1.310517  0.409162   \n",
       "...             ...            ...            ...       ...       ...   \n",
       "2676      14.235290      -26.48535     -12.246520  1.336503  1.406869   \n",
       "2677      43.164900      -28.28878      -7.025205  0.703169  1.740336   \n",
       "2678      25.174220      136.32030     -12.358740  0.641901  1.781092   \n",
       "2679     -10.814190      -18.57390     -30.342760  1.160698  1.446287   \n",
       "2680     -15.119600       31.18960     -13.895900  0.045157  2.282631   \n",
       "\n",
       "         Yaw_x  ...     Yaw_y   Wrist Pos X_y   Wrist Pos Y_y   Wrist Pos Z_y  \\\n",
       "0     1.276748  ... -0.277800        46.88831        207.3548        86.23589   \n",
       "1     1.358358  ... -0.277763        47.54861        205.6568        86.42250   \n",
       "2     1.050796  ... -0.278792        48.15030        204.5182        86.35149   \n",
       "3     1.454513  ... -0.279768        48.64175        203.9989        86.16056   \n",
       "4     1.449638  ... -0.278629        48.93135        203.3777        85.59017   \n",
       "...        ...  ...       ...             ...             ...             ...   \n",
       "2676  0.769383  ... -2.168338       123.04620        133.6873        31.53965   \n",
       "2677  0.606227  ... -0.406183       120.45850        133.9525        45.90549   \n",
       "2678  0.512229  ... -0.398261       125.87150        142.2466        54.52624   \n",
       "2679  0.526926  ... -1.956911       124.23340        139.1985        49.55933   \n",
       "2680  0.532713  ... -0.509072       131.16330        151.0646        58.53401   \n",
       "\n",
       "       Elbow pos X_y   Elbow Pos Y_y   Elbow Pos Z_y   Grab Strenth_y  \\\n",
       "0           203.8337        49.33507       237.45530              0.0   \n",
       "1           203.9553        47.88272       238.44820              0.0   \n",
       "2           204.6231        45.35921       236.85440              0.0   \n",
       "3           204.9939        44.18692       236.09270              0.0   \n",
       "4           204.5952        42.68003       235.28960              0.0   \n",
       "...              ...             ...             ...              ...   \n",
       "2676        289.0648       -64.91495        30.21533              0.0   \n",
       "2677        296.4559        -5.98533       174.15970              0.0   \n",
       "2678        304.9686       -14.97589       155.58140              0.0   \n",
       "2679        302.6661       -48.31174        46.65322              0.0   \n",
       "2680        342.6050        53.94796       171.96940              0.0   \n",
       "\n",
       "       Grab Angle_y   Pinch Strength_y  \n",
       "0          0.206389                0.0  \n",
       "1          0.243050                0.0  \n",
       "2          0.281134                0.0  \n",
       "3          0.277691                0.0  \n",
       "4          0.283008                0.0  \n",
       "...             ...                ...  \n",
       "2676       0.000000                0.0  \n",
       "2677       0.000000                0.0  \n",
       "2678       0.000000                0.0  \n",
       "2679       0.000000                0.0  \n",
       "2680       0.000000                0.0  \n",
       "\n",
       "[4074 rows x 39 columns]"
      ]
     },
     "execution_count": 888,
     "metadata": {},
     "output_type": "execute_result"
    }
   ],
   "source": [
    "df.drop(['Time',' Frame ID',' # hands'],axis=1)"
   ]
  },
  {
   "cell_type": "markdown",
   "metadata": {},
   "source": [
    "#### Train-test split"
   ]
  },
  {
   "cell_type": "code",
   "execution_count": 889,
   "metadata": {},
   "outputs": [],
   "source": [
    "y = df['label']\n",
    "X = df.drop(['label'], axis=1)\n"
   ]
  },
  {
   "cell_type": "code",
   "execution_count": 890,
   "metadata": {},
   "outputs": [],
   "source": [
    "X_train, X_val, y_train, y_val = train_test_split(X, y, test_size = 0.3, random_state=42)"
   ]
  },
  {
   "cell_type": "code",
   "execution_count": 891,
   "metadata": {},
   "outputs": [],
   "source": [
    "X_tests=df_test.drop(['label'], axis = 1)\n",
    "y_tests=df_test['label']"
   ]
  },
  {
   "cell_type": "code",
   "execution_count": 892,
   "metadata": {},
   "outputs": [],
   "source": [
    "# scaling\n",
    "scaler = StandardScaler()\n",
    "X_train = scaler.fit_transform(X_train)\n",
    "X_val = scaler.transform(X_val)\n",
    "X_reduced_tes = scaler.transform(X_tests)"
   ]
  },
  {
   "cell_type": "code",
   "execution_count": 893,
   "metadata": {},
   "outputs": [],
   "source": [
    "# pca\n",
    "pca = PCA(n_components=15)\n",
    "X_train_reduced = pca.fit_transform(X_train)\n",
    "#transform also the test set\n",
    "X_val_red=pca.transform(X_val)\n",
    "X_reduced_tes = pca.transform(X_reduced_tes)"
   ]
  },
  {
   "cell_type": "markdown",
   "metadata": {},
   "source": [
    "### Modeling"
   ]
  },
  {
   "cell_type": "markdown",
   "metadata": {},
   "source": [
    "* First, train the models on the training set and check the best parameters for some models using GridSearchCv\n",
    "* Then, evaluate on the test set\n",
    "* Finally, after finishing train the models on the test set, check them on the validation set "
   ]
  },
  {
   "cell_type": "code",
   "execution_count": 894,
   "metadata": {},
   "outputs": [],
   "source": [
    "def result(model):\n",
    "    res=  Pipeline([('model', model)])\n",
    "    res.fit(X_train_reduced, y_train)\n",
    "    print(round(res.score(X_val_red,y_val)*100,4),\"%\")\n",
    "\n",
    "    "
   ]
  },
  {
   "cell_type": "markdown",
   "metadata": {},
   "source": [
    "### Knn"
   ]
  },
  {
   "cell_type": "code",
   "execution_count": 971,
   "metadata": {},
   "outputs": [
    {
     "data": {
      "text/plain": [
       "GridSearchCV(cv=5, estimator=KNeighborsClassifier(),\n",
       "             param_grid=[{'algorithm': ['auto', 'ball_tree', 'kd_tree',\n",
       "                                        'brute'],\n",
       "                          'n_neighbors': [5, 7, 10, 16, 22]}],\n",
       "             scoring='accuracy')"
      ]
     },
     "execution_count": 971,
     "metadata": {},
     "output_type": "execute_result"
    }
   ],
   "source": [
    "param_grid_knn=[{'n_neighbors': [5,7,10,16,22],'algorithm': ['auto', 'ball_tree', 'kd_tree', 'brute']}]\n",
    "model=KNeighborsClassifier()\n",
    "grid_search_knn=GridSearchCV(model,param_grid_knn,cv=5,scoring='accuracy')\n",
    "grid_search_knn.fit(X_train_reduced, y_train)"
   ]
  },
  {
   "cell_type": "code",
   "execution_count": 972,
   "metadata": {},
   "outputs": [
    {
     "data": {
      "text/plain": [
       "{'algorithm': 'auto', 'n_neighbors': 10}"
      ]
     },
     "execution_count": 972,
     "metadata": {},
     "output_type": "execute_result"
    }
   ],
   "source": [
    "grid_search_knn.best_params_"
   ]
  },
  {
   "cell_type": "code",
   "execution_count": 973,
   "metadata": {},
   "outputs": [
    {
     "name": "stdout",
     "output_type": "stream",
     "text": [
      "94.0311 %\n"
     ]
    }
   ],
   "source": [
    "knn = KNeighborsClassifier(n_neighbors = 10)\n",
    "result(knn)"
   ]
  },
  {
   "cell_type": "markdown",
   "metadata": {},
   "source": [
    "### Random forrest"
   ]
  },
  {
   "cell_type": "code",
   "execution_count": 898,
   "metadata": {},
   "outputs": [
    {
     "data": {
      "text/plain": [
       "GridSearchCV(cv=3, estimator=RandomForestClassifier(),\n",
       "             param_grid=[{'max_depth': [7, 12, 15, 18, 20],\n",
       "                          'n_estimators': [100, 150, 175, 200, 225]}],\n",
       "             scoring='accuracy')"
      ]
     },
     "execution_count": 898,
     "metadata": {},
     "output_type": "execute_result"
    }
   ],
   "source": [
    "param_grid_rf=[{'n_estimators':[100,150,175,200,225],'max_depth':[7,12,15,18,20]}]\n",
    "model=RandomForestClassifier()\n",
    "grid=GridSearchCV(model,param_grid_rf,cv=3,scoring='accuracy')\n",
    "grid.fit(X_train_reduced, y_train)"
   ]
  },
  {
   "cell_type": "code",
   "execution_count": 899,
   "metadata": {},
   "outputs": [
    {
     "data": {
      "text/plain": [
       "{'max_depth': 18, 'n_estimators': 200}"
      ]
     },
     "execution_count": 899,
     "metadata": {},
     "output_type": "execute_result"
    }
   ],
   "source": [
    "grid.best_params_"
   ]
  },
  {
   "cell_type": "code",
   "execution_count": 900,
   "metadata": {},
   "outputs": [
    {
     "name": "stdout",
     "output_type": "stream",
     "text": [
      "93.704 %\n"
     ]
    }
   ],
   "source": [
    "rf = RandomForestClassifier(max_depth=20, n_estimators=175)\n",
    "result(rf)"
   ]
  },
  {
   "cell_type": "markdown",
   "metadata": {},
   "source": [
    "### Logistic regression"
   ]
  },
  {
   "cell_type": "code",
   "execution_count": 901,
   "metadata": {},
   "outputs": [
    {
     "data": {
      "text/plain": [
       "GridSearchCV(cv=3, estimator=LogisticRegression(),\n",
       "             param_grid=[{'C': [0.1, 0.5, 1, 5, 10, 50, 100],\n",
       "                          'penalty': ['l1', 'l2', 'elasticnet', 'none']}],\n",
       "             scoring='accuracy')"
      ]
     },
     "execution_count": 901,
     "metadata": {},
     "output_type": "execute_result"
    }
   ],
   "source": [
    "param_grid_lr=[{'penalty':['l1', 'l2','elasticnet','none'],'C': [0.1, 0.5, 1, 5, 10, 50, 100]}]\n",
    "model=LogisticRegression()\n",
    "grid_lr=GridSearchCV(model,param_grid_lr,cv=3,scoring='accuracy')\n",
    "grid_lr.fit(X_train_reduced, y_train)"
   ]
  },
  {
   "cell_type": "code",
   "execution_count": 902,
   "metadata": {},
   "outputs": [
    {
     "data": {
      "text/plain": [
       "{'C': 1, 'penalty': 'l2'}"
      ]
     },
     "execution_count": 902,
     "metadata": {},
     "output_type": "execute_result"
    }
   ],
   "source": [
    "grid_lr.best_params_"
   ]
  },
  {
   "cell_type": "code",
   "execution_count": 903,
   "metadata": {},
   "outputs": [
    {
     "name": "stdout",
     "output_type": "stream",
     "text": [
      "88.471 %\n"
     ]
    }
   ],
   "source": [
    "lr = LogisticRegression(penalty= 'l2',C=0.1)\n",
    "result(lr)"
   ]
  },
  {
   "cell_type": "markdown",
   "metadata": {},
   "source": [
    "### Xgboost"
   ]
  },
  {
   "cell_type": "code",
   "execution_count": 904,
   "metadata": {},
   "outputs": [
    {
     "data": {
      "text/plain": [
       "GridSearchCV(cv=2,\n",
       "             estimator=XGBClassifier(base_score=None, booster=None,\n",
       "                                     colsample_bylevel=None,\n",
       "                                     colsample_bynode=None,\n",
       "                                     colsample_bytree=None,\n",
       "                                     eval_metric='mlogloss', gamma=None,\n",
       "                                     gpu_id=None, importance_type='gain',\n",
       "                                     interaction_constraints=None,\n",
       "                                     learning_rate=None, max_delta_step=None,\n",
       "                                     max_depth=None, min_child_weight=None,\n",
       "                                     missing=nan, monotone_constraints=None,\n",
       "                                     n_estimators=100, n_jobs=None,\n",
       "                                     num_parallel_tree=None, random_state=None,\n",
       "                                     reg_alpha=None, reg_lambda=None,\n",
       "                                     scale_pos_weight=None, subsample=None,\n",
       "                                     tree_method=None, validate_parameters=None,\n",
       "                                     verbosity=None),\n",
       "             param_grid=[{'learning_rate': [0.2, 0.5, 1, 1.5, 2],\n",
       "                          'n_estimators': [160, 180, 200, 220, 240]}],\n",
       "             scoring='accuracy')"
      ]
     },
     "execution_count": 904,
     "metadata": {},
     "output_type": "execute_result"
    }
   ],
   "source": [
    "param_grid_xg=[{'n_estimators':[160,180,200,220,240],'learning_rate':[0.2,0.5,1,1.5,2]}]\n",
    "model=XGBClassifier(eval_metric='mlogloss')\n",
    "grid_search_xg=GridSearchCV(model,param_grid_xg,cv=2,scoring='accuracy')\n",
    "grid_search_xg.fit(X_train_reduced, y_train)"
   ]
  },
  {
   "cell_type": "code",
   "execution_count": 905,
   "metadata": {},
   "outputs": [
    {
     "data": {
      "text/plain": [
       "{'learning_rate': 0.5, 'n_estimators': 240}"
      ]
     },
     "execution_count": 905,
     "metadata": {},
     "output_type": "execute_result"
    }
   ],
   "source": [
    "grid_search_xg.best_params_"
   ]
  },
  {
   "cell_type": "code",
   "execution_count": 975,
   "metadata": {},
   "outputs": [
    {
     "name": "stdout",
     "output_type": "stream",
     "text": [
      "95.1758 %\n"
     ]
    }
   ],
   "source": [
    "xgb = XGBClassifier(eval_metric='mlogloss', learning_rate = 0.5, n_estimators= 240)\n",
    "result(xgb)"
   ]
  },
  {
   "cell_type": "markdown",
   "metadata": {},
   "source": [
    "### Stacking"
   ]
  },
  {
   "cell_type": "code",
   "execution_count": 976,
   "metadata": {},
   "outputs": [
    {
     "name": "stdout",
     "output_type": "stream",
     "text": [
      "94.8487 %\n"
     ]
    }
   ],
   "source": [
    "stacking=StackingClassifier([\n",
    "        ('rf', RandomForestClassifier(max_depth=20,n_estimators= 225)),    \n",
    "        ('knn', KNeighborsClassifier(n_neighbors=5,algorithm='auto'),\n",
    "        ('xgb', XGBClassifier(eval_metric='mlogloss', learning_rate=0.5, n_estimators=240))\n",
    "        )])\n",
    "result(stacking)"
   ]
  },
  {
   "cell_type": "code",
   "execution_count": 908,
   "metadata": {},
   "outputs": [
    {
     "data": {
      "text/html": [
       "<div>\n",
       "<style scoped>\n",
       "    .dataframe tbody tr th:only-of-type {\n",
       "        vertical-align: middle;\n",
       "    }\n",
       "\n",
       "    .dataframe tbody tr th {\n",
       "        vertical-align: top;\n",
       "    }\n",
       "\n",
       "    .dataframe thead th {\n",
       "        text-align: right;\n",
       "    }\n",
       "</style>\n",
       "<table border=\"1\" class=\"dataframe\">\n",
       "  <thead>\n",
       "    <tr style=\"text-align: right;\">\n",
       "      <th></th>\n",
       "      <th>Hand Type_x</th>\n",
       "      <th>Position X_x</th>\n",
       "      <th>Position Y_x</th>\n",
       "      <th>Position Z_x</th>\n",
       "      <th>Velocity X_x</th>\n",
       "      <th>Velocity Y_x</th>\n",
       "      <th>Velocity Z_x</th>\n",
       "      <th>Pitch_x</th>\n",
       "      <th>Roll_x</th>\n",
       "      <th>Yaw_x</th>\n",
       "      <th>...</th>\n",
       "      <th>Yaw_y</th>\n",
       "      <th>Wrist Pos X_y</th>\n",
       "      <th>Wrist Pos Y_y</th>\n",
       "      <th>Wrist Pos Z_y</th>\n",
       "      <th>Elbow pos X_y</th>\n",
       "      <th>Elbow Pos Y_y</th>\n",
       "      <th>Elbow Pos Z_y</th>\n",
       "      <th>Grab Strenth_y</th>\n",
       "      <th>Grab Angle_y</th>\n",
       "      <th>Pinch Strength_y</th>\n",
       "    </tr>\n",
       "  </thead>\n",
       "  <tbody>\n",
       "    <tr>\n",
       "      <th>0</th>\n",
       "      <td>2</td>\n",
       "      <td>40.41911</td>\n",
       "      <td>194.2201</td>\n",
       "      <td>21.29477</td>\n",
       "      <td>-32.302420</td>\n",
       "      <td>0.189444</td>\n",
       "      <td>-54.70464</td>\n",
       "      <td>0.698933</td>\n",
       "      <td>-2.968176</td>\n",
       "      <td>1.246851</td>\n",
       "      <td>...</td>\n",
       "      <td>-0.277800</td>\n",
       "      <td>46.88831</td>\n",
       "      <td>207.3548</td>\n",
       "      <td>86.23589</td>\n",
       "      <td>203.8337</td>\n",
       "      <td>49.33507</td>\n",
       "      <td>237.4553</td>\n",
       "      <td>0.0</td>\n",
       "      <td>0.206389</td>\n",
       "      <td>0.0</td>\n",
       "    </tr>\n",
       "    <tr>\n",
       "      <th>1</th>\n",
       "      <td>2</td>\n",
       "      <td>-22.28859</td>\n",
       "      <td>252.8564</td>\n",
       "      <td>39.10022</td>\n",
       "      <td>-227.576900</td>\n",
       "      <td>215.248800</td>\n",
       "      <td>61.59812</td>\n",
       "      <td>1.139781</td>\n",
       "      <td>-2.315936</td>\n",
       "      <td>0.996171</td>\n",
       "      <td>...</td>\n",
       "      <td>-0.277763</td>\n",
       "      <td>47.54861</td>\n",
       "      <td>205.6568</td>\n",
       "      <td>86.42250</td>\n",
       "      <td>203.9553</td>\n",
       "      <td>47.88272</td>\n",
       "      <td>238.4482</td>\n",
       "      <td>0.0</td>\n",
       "      <td>0.243050</td>\n",
       "      <td>0.0</td>\n",
       "    </tr>\n",
       "    <tr>\n",
       "      <th>2</th>\n",
       "      <td>2</td>\n",
       "      <td>-77.73283</td>\n",
       "      <td>265.5974</td>\n",
       "      <td>63.97878</td>\n",
       "      <td>-116.560000</td>\n",
       "      <td>-56.360250</td>\n",
       "      <td>49.24916</td>\n",
       "      <td>1.143665</td>\n",
       "      <td>0.609194</td>\n",
       "      <td>1.290360</td>\n",
       "      <td>...</td>\n",
       "      <td>-0.278792</td>\n",
       "      <td>48.15030</td>\n",
       "      <td>204.5182</td>\n",
       "      <td>86.35149</td>\n",
       "      <td>204.6231</td>\n",
       "      <td>45.35921</td>\n",
       "      <td>236.8544</td>\n",
       "      <td>0.0</td>\n",
       "      <td>0.281134</td>\n",
       "      <td>0.0</td>\n",
       "    </tr>\n",
       "    <tr>\n",
       "      <th>3</th>\n",
       "      <td>2</td>\n",
       "      <td>-142.19550</td>\n",
       "      <td>258.2204</td>\n",
       "      <td>79.75294</td>\n",
       "      <td>-258.714800</td>\n",
       "      <td>-12.179600</td>\n",
       "      <td>12.66394</td>\n",
       "      <td>1.233569</td>\n",
       "      <td>0.433647</td>\n",
       "      <td>1.403293</td>\n",
       "      <td>...</td>\n",
       "      <td>-0.279768</td>\n",
       "      <td>48.64175</td>\n",
       "      <td>203.9989</td>\n",
       "      <td>86.16056</td>\n",
       "      <td>204.9939</td>\n",
       "      <td>44.18692</td>\n",
       "      <td>236.0927</td>\n",
       "      <td>0.0</td>\n",
       "      <td>0.277691</td>\n",
       "      <td>0.0</td>\n",
       "    </tr>\n",
       "    <tr>\n",
       "      <th>4</th>\n",
       "      <td>2</td>\n",
       "      <td>-178.47400</td>\n",
       "      <td>258.8552</td>\n",
       "      <td>79.68269</td>\n",
       "      <td>258.774900</td>\n",
       "      <td>-145.161600</td>\n",
       "      <td>-58.11039</td>\n",
       "      <td>1.368628</td>\n",
       "      <td>0.493161</td>\n",
       "      <td>1.466882</td>\n",
       "      <td>...</td>\n",
       "      <td>-0.278629</td>\n",
       "      <td>48.93135</td>\n",
       "      <td>203.3777</td>\n",
       "      <td>85.59017</td>\n",
       "      <td>204.5952</td>\n",
       "      <td>42.68003</td>\n",
       "      <td>235.2896</td>\n",
       "      <td>0.0</td>\n",
       "      <td>0.283008</td>\n",
       "      <td>0.0</td>\n",
       "    </tr>\n",
       "    <tr>\n",
       "      <th>...</th>\n",
       "      <td>...</td>\n",
       "      <td>...</td>\n",
       "      <td>...</td>\n",
       "      <td>...</td>\n",
       "      <td>...</td>\n",
       "      <td>...</td>\n",
       "      <td>...</td>\n",
       "      <td>...</td>\n",
       "      <td>...</td>\n",
       "      <td>...</td>\n",
       "      <td>...</td>\n",
       "      <td>...</td>\n",
       "      <td>...</td>\n",
       "      <td>...</td>\n",
       "      <td>...</td>\n",
       "      <td>...</td>\n",
       "      <td>...</td>\n",
       "      <td>...</td>\n",
       "      <td>...</td>\n",
       "      <td>...</td>\n",
       "      <td>...</td>\n",
       "    </tr>\n",
       "    <tr>\n",
       "      <th>791</th>\n",
       "      <td>2</td>\n",
       "      <td>-126.71670</td>\n",
       "      <td>238.2905</td>\n",
       "      <td>93.64916</td>\n",
       "      <td>-83.103610</td>\n",
       "      <td>-58.129790</td>\n",
       "      <td>-49.92599</td>\n",
       "      <td>1.008779</td>\n",
       "      <td>0.414681</td>\n",
       "      <td>1.292194</td>\n",
       "      <td>...</td>\n",
       "      <td>-1.175451</td>\n",
       "      <td>117.23910</td>\n",
       "      <td>210.7587</td>\n",
       "      <td>180.55230</td>\n",
       "      <td>335.9680</td>\n",
       "      <td>69.00294</td>\n",
       "      <td>235.8746</td>\n",
       "      <td>0.0</td>\n",
       "      <td>0.148278</td>\n",
       "      <td>0.0</td>\n",
       "    </tr>\n",
       "    <tr>\n",
       "      <th>792</th>\n",
       "      <td>2</td>\n",
       "      <td>-79.74459</td>\n",
       "      <td>287.6227</td>\n",
       "      <td>51.88764</td>\n",
       "      <td>-76.990880</td>\n",
       "      <td>83.765250</td>\n",
       "      <td>113.92610</td>\n",
       "      <td>1.345698</td>\n",
       "      <td>0.651067</td>\n",
       "      <td>1.401338</td>\n",
       "      <td>...</td>\n",
       "      <td>-1.309565</td>\n",
       "      <td>205.36990</td>\n",
       "      <td>211.2587</td>\n",
       "      <td>93.60893</td>\n",
       "      <td>385.4841</td>\n",
       "      <td>22.77898</td>\n",
       "      <td>148.6449</td>\n",
       "      <td>0.0</td>\n",
       "      <td>0.000000</td>\n",
       "      <td>0.0</td>\n",
       "    </tr>\n",
       "    <tr>\n",
       "      <th>793</th>\n",
       "      <td>2</td>\n",
       "      <td>-88.26382</td>\n",
       "      <td>299.8587</td>\n",
       "      <td>94.23167</td>\n",
       "      <td>101.100200</td>\n",
       "      <td>162.285400</td>\n",
       "      <td>-18.73653</td>\n",
       "      <td>1.597519</td>\n",
       "      <td>1.130905</td>\n",
       "      <td>1.628316</td>\n",
       "      <td>...</td>\n",
       "      <td>-1.456240</td>\n",
       "      <td>156.94980</td>\n",
       "      <td>284.9480</td>\n",
       "      <td>106.94010</td>\n",
       "      <td>341.6207</td>\n",
       "      <td>94.37777</td>\n",
       "      <td>129.5167</td>\n",
       "      <td>0.0</td>\n",
       "      <td>0.000000</td>\n",
       "      <td>0.0</td>\n",
       "    </tr>\n",
       "    <tr>\n",
       "      <th>794</th>\n",
       "      <td>2</td>\n",
       "      <td>-79.27560</td>\n",
       "      <td>294.8668</td>\n",
       "      <td>84.57072</td>\n",
       "      <td>2.953028</td>\n",
       "      <td>-358.944300</td>\n",
       "      <td>-26.47951</td>\n",
       "      <td>1.612317</td>\n",
       "      <td>0.979432</td>\n",
       "      <td>1.633340</td>\n",
       "      <td>...</td>\n",
       "      <td>-1.459679</td>\n",
       "      <td>185.05540</td>\n",
       "      <td>199.0112</td>\n",
       "      <td>98.83315</td>\n",
       "      <td>406.2700</td>\n",
       "      <td>55.31898</td>\n",
       "      <td>135.4422</td>\n",
       "      <td>0.0</td>\n",
       "      <td>0.000000</td>\n",
       "      <td>0.0</td>\n",
       "    </tr>\n",
       "    <tr>\n",
       "      <th>795</th>\n",
       "      <td>2</td>\n",
       "      <td>-108.26780</td>\n",
       "      <td>231.9276</td>\n",
       "      <td>55.81734</td>\n",
       "      <td>33.329940</td>\n",
       "      <td>220.969900</td>\n",
       "      <td>71.56274</td>\n",
       "      <td>1.506643</td>\n",
       "      <td>0.674829</td>\n",
       "      <td>1.519844</td>\n",
       "      <td>...</td>\n",
       "      <td>-1.470515</td>\n",
       "      <td>165.44730</td>\n",
       "      <td>191.4645</td>\n",
       "      <td>97.24638</td>\n",
       "      <td>380.6419</td>\n",
       "      <td>38.02494</td>\n",
       "      <td>126.1107</td>\n",
       "      <td>0.0</td>\n",
       "      <td>0.000000</td>\n",
       "      <td>0.0</td>\n",
       "    </tr>\n",
       "  </tbody>\n",
       "</table>\n",
       "<p>1211 rows × 39 columns</p>\n",
       "</div>"
      ],
      "text/plain": [
       "      Hand Type_x   Position X_x   Position Y_x   Position Z_x   Velocity X_x  \\\n",
       "0               2       40.41911       194.2201       21.29477     -32.302420   \n",
       "1               2      -22.28859       252.8564       39.10022    -227.576900   \n",
       "2               2      -77.73283       265.5974       63.97878    -116.560000   \n",
       "3               2     -142.19550       258.2204       79.75294    -258.714800   \n",
       "4               2     -178.47400       258.8552       79.68269     258.774900   \n",
       "..            ...            ...            ...            ...            ...   \n",
       "791             2     -126.71670       238.2905       93.64916     -83.103610   \n",
       "792             2      -79.74459       287.6227       51.88764     -76.990880   \n",
       "793             2      -88.26382       299.8587       94.23167     101.100200   \n",
       "794             2      -79.27560       294.8668       84.57072       2.953028   \n",
       "795             2     -108.26780       231.9276       55.81734      33.329940   \n",
       "\n",
       "      Velocity Y_x   Velocity Z_x   Pitch_x    Roll_x     Yaw_x  ...  \\\n",
       "0         0.189444      -54.70464  0.698933 -2.968176  1.246851  ...   \n",
       "1       215.248800       61.59812  1.139781 -2.315936  0.996171  ...   \n",
       "2       -56.360250       49.24916  1.143665  0.609194  1.290360  ...   \n",
       "3       -12.179600       12.66394  1.233569  0.433647  1.403293  ...   \n",
       "4      -145.161600      -58.11039  1.368628  0.493161  1.466882  ...   \n",
       "..             ...            ...       ...       ...       ...  ...   \n",
       "791     -58.129790      -49.92599  1.008779  0.414681  1.292194  ...   \n",
       "792      83.765250      113.92610  1.345698  0.651067  1.401338  ...   \n",
       "793     162.285400      -18.73653  1.597519  1.130905  1.628316  ...   \n",
       "794    -358.944300      -26.47951  1.612317  0.979432  1.633340  ...   \n",
       "795     220.969900       71.56274  1.506643  0.674829  1.519844  ...   \n",
       "\n",
       "        Yaw_y   Wrist Pos X_y   Wrist Pos Y_y   Wrist Pos Z_y   Elbow pos X_y  \\\n",
       "0   -0.277800        46.88831        207.3548        86.23589        203.8337   \n",
       "1   -0.277763        47.54861        205.6568        86.42250        203.9553   \n",
       "2   -0.278792        48.15030        204.5182        86.35149        204.6231   \n",
       "3   -0.279768        48.64175        203.9989        86.16056        204.9939   \n",
       "4   -0.278629        48.93135        203.3777        85.59017        204.5952   \n",
       "..        ...             ...             ...             ...             ...   \n",
       "791 -1.175451       117.23910        210.7587       180.55230        335.9680   \n",
       "792 -1.309565       205.36990        211.2587        93.60893        385.4841   \n",
       "793 -1.456240       156.94980        284.9480       106.94010        341.6207   \n",
       "794 -1.459679       185.05540        199.0112        98.83315        406.2700   \n",
       "795 -1.470515       165.44730        191.4645        97.24638        380.6419   \n",
       "\n",
       "      Elbow Pos Y_y   Elbow Pos Z_y   Grab Strenth_y   Grab Angle_y  \\\n",
       "0          49.33507        237.4553              0.0       0.206389   \n",
       "1          47.88272        238.4482              0.0       0.243050   \n",
       "2          45.35921        236.8544              0.0       0.281134   \n",
       "3          44.18692        236.0927              0.0       0.277691   \n",
       "4          42.68003        235.2896              0.0       0.283008   \n",
       "..              ...             ...              ...            ...   \n",
       "791        69.00294        235.8746              0.0       0.148278   \n",
       "792        22.77898        148.6449              0.0       0.000000   \n",
       "793        94.37777        129.5167              0.0       0.000000   \n",
       "794        55.31898        135.4422              0.0       0.000000   \n",
       "795        38.02494        126.1107              0.0       0.000000   \n",
       "\n",
       "      Pinch Strength_y  \n",
       "0                  0.0  \n",
       "1                  0.0  \n",
       "2                  0.0  \n",
       "3                  0.0  \n",
       "4                  0.0  \n",
       "..                 ...  \n",
       "791                0.0  \n",
       "792                0.0  \n",
       "793                0.0  \n",
       "794                0.0  \n",
       "795                0.0  \n",
       "\n",
       "[1211 rows x 39 columns]"
      ]
     },
     "execution_count": 908,
     "metadata": {},
     "output_type": "execute_result"
    }
   ],
   "source": [
    "df_test.drop(['Time',' Frame ID',' # hands'],axis=1)"
   ]
  },
  {
   "cell_type": "markdown",
   "metadata": {},
   "source": [
    "### Testing"
   ]
  },
  {
   "cell_type": "code",
   "execution_count": 909,
   "metadata": {},
   "outputs": [],
   "source": [
    "def result10000(model):\n",
    "#     res=  Pipeline([('model', model)])\n",
    "    model.fit(X_train_reduced, y_train)\n",
    "    print(round(model.score(X_reduced_tes,y_tests)*100,4),\"%\")"
   ]
  },
  {
   "cell_type": "code",
   "execution_count": 974,
   "metadata": {},
   "outputs": [
    {
     "name": "stdout",
     "output_type": "stream",
     "text": [
      "85.8794 %\n"
     ]
    }
   ],
   "source": [
    "knn = KNeighborsClassifier(n_neighbors = 10,algorithm='auto')\n",
    "result10000(knn)"
   ]
  },
  {
   "cell_type": "code",
   "execution_count": 980,
   "metadata": {},
   "outputs": [
    {
     "name": "stdout",
     "output_type": "stream",
     "text": [
      "77.7044 %\n"
     ]
    }
   ],
   "source": [
    "xgb = XGBClassifier(eval_metric='mlogloss', learning_rate = 0.5, n_estimators= 240)\n",
    "result10000(xgb)"
   ]
  },
  {
   "cell_type": "code",
   "execution_count": 981,
   "metadata": {},
   "outputs": [
    {
     "name": "stdout",
     "output_type": "stream",
     "text": [
      "85.0537 %\n"
     ]
    }
   ],
   "source": [
    "stacking=StackingClassifier([\n",
    "        ('rf', RandomForestClassifier(max_depth=20,n_estimators= 225)),    \n",
    "        ('knn', KNeighborsClassifier(n_neighbors=10,algorithm='auto'),\n",
    "        ('xgb', XGBClassifier(eval_metric='mlogloss', learning_rate=0.5, n_estimators=240))\n",
    "        )])\n",
    "result10000(stacking)"
   ]
  },
  {
   "cell_type": "code",
   "execution_count": 913,
   "metadata": {},
   "outputs": [
    {
     "name": "stdout",
     "output_type": "stream",
     "text": [
      "75.7225 %\n"
     ]
    }
   ],
   "source": [
    "lr = LogisticRegression(penalty= 'l2',C=0.1)\n",
    "result10000(lr)"
   ]
  },
  {
   "cell_type": "code",
   "execution_count": 914,
   "metadata": {},
   "outputs": [
    {
     "name": "stdout",
     "output_type": "stream",
     "text": [
      "81.9158 %\n"
     ]
    }
   ],
   "source": [
    "rf = RandomForestClassifier(max_depth=20, n_estimators=175)\n",
    "result10000(rf)"
   ]
  },
  {
   "cell_type": "code",
   "execution_count": 915,
   "metadata": {},
   "outputs": [
    {
     "name": "stdout",
     "output_type": "stream",
     "text": [
      "81.9983 %\n"
     ]
    }
   ],
   "source": [
    "voting = VotingClassifier(estimators=[('knn', knn), ('rfc', rf), ('xgb', xgb)],voting='hard')\n",
    "result10000(voting)"
   ]
  },
  {
   "cell_type": "code",
   "execution_count": null,
   "metadata": {},
   "outputs": [],
   "source": []
  }
 ],
 "metadata": {
  "kernelspec": {
   "display_name": "Python 3",
   "language": "python",
   "name": "python3"
  },
  "language_info": {
   "codemirror_mode": {
    "name": "ipython",
    "version": 3
   },
   "file_extension": ".py",
   "mimetype": "text/x-python",
   "name": "python",
   "nbconvert_exporter": "python",
   "pygments_lexer": "ipython3",
   "version": "3.8.3"
  }
 },
 "nbformat": 4,
 "nbformat_minor": 4
}
